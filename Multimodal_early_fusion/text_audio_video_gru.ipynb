{
 "cells": [
  {
   "cell_type": "code",
   "execution_count": 1,
   "id": "809d57fc",
   "metadata": {},
   "outputs": [],
   "source": [
    "import pandas as pd\n",
    "import numpy as np\n",
    "import os\n",
    "import warnings\n",
    "import pickle\n",
    "from sklearn import preprocessing\n",
    "\n",
    "from sklearn.metrics import classification_report\n",
    "from sklearn.model_selection import train_test_split\n",
    "\n",
    "from sklearn.utils.class_weight import compute_class_weight\n",
    "from sklearn import preprocessing\n",
    "\n",
    "import torch\n",
    "import torch.nn as nn\n",
    "from torch.utils.data.sampler import SubsetRandomSampler\n",
    "import torch.nn.functional as F\n",
    "from torch.utils.data import DataLoader\n",
    "from torch.utils.data import Dataset\n",
    "\n",
    "desired_frames = 1\n",
    "desired_features = 3506"
   ]
  },
  {
   "cell_type": "code",
   "execution_count": 2,
   "id": "d0b3e97f",
   "metadata": {},
   "outputs": [],
   "source": [
    "labels = pd.read_csv(\"scene_labels.csv\")"
   ]
  },
  {
   "cell_type": "code",
   "execution_count": 3,
   "id": "f17a8765",
   "metadata": {
    "scrolled": false
   },
   "outputs": [
    {
     "data": {
      "text/html": [
       "<div>\n",
       "<style scoped>\n",
       "    .dataframe tbody tr th:only-of-type {\n",
       "        vertical-align: middle;\n",
       "    }\n",
       "\n",
       "    .dataframe tbody tr th {\n",
       "        vertical-align: top;\n",
       "    }\n",
       "\n",
       "    .dataframe thead th {\n",
       "        text-align: right;\n",
       "    }\n",
       "</style>\n",
       "<table border=\"1\" class=\"dataframe\">\n",
       "  <thead>\n",
       "    <tr style=\"text-align: right;\">\n",
       "      <th></th>\n",
       "      <th>SCENE</th>\n",
       "      <th>KEY</th>\n",
       "      <th>SPEAKER</th>\n",
       "      <th>SHOW</th>\n",
       "      <th>Sarcasm</th>\n",
       "      <th>Sarcasm_Type</th>\n",
       "    </tr>\n",
       "  </thead>\n",
       "  <tbody>\n",
       "    <tr>\n",
       "      <th>0</th>\n",
       "      <td>1_10004</td>\n",
       "      <td>1_10004_u</td>\n",
       "      <td>SHELDON</td>\n",
       "      <td>BBT</td>\n",
       "      <td>0.0</td>\n",
       "      <td>NONE</td>\n",
       "    </tr>\n",
       "    <tr>\n",
       "      <th>1</th>\n",
       "      <td>1_10009</td>\n",
       "      <td>1_10009_u</td>\n",
       "      <td>PENNY</td>\n",
       "      <td>BBT</td>\n",
       "      <td>0.0</td>\n",
       "      <td>NONE</td>\n",
       "    </tr>\n",
       "    <tr>\n",
       "      <th>2</th>\n",
       "      <td>1_1001</td>\n",
       "      <td>1_1001_u</td>\n",
       "      <td>RAJ</td>\n",
       "      <td>BBT</td>\n",
       "      <td>0.0</td>\n",
       "      <td>NONE</td>\n",
       "    </tr>\n",
       "    <tr>\n",
       "      <th>3</th>\n",
       "      <td>1_1003</td>\n",
       "      <td>1_1003_u</td>\n",
       "      <td>HOWARD</td>\n",
       "      <td>BBT</td>\n",
       "      <td>1.0</td>\n",
       "      <td>PRO</td>\n",
       "    </tr>\n",
       "    <tr>\n",
       "      <th>4</th>\n",
       "      <td>1_10190</td>\n",
       "      <td>1_10190_u</td>\n",
       "      <td>SHELDON</td>\n",
       "      <td>BBT</td>\n",
       "      <td>0.0</td>\n",
       "      <td>NONE</td>\n",
       "    </tr>\n",
       "  </tbody>\n",
       "</table>\n",
       "</div>"
      ],
      "text/plain": [
       "     SCENE        KEY  SPEAKER SHOW  Sarcasm Sarcasm_Type\n",
       "0  1_10004  1_10004_u  SHELDON  BBT      0.0         NONE\n",
       "1  1_10009  1_10009_u    PENNY  BBT      0.0         NONE\n",
       "2   1_1001   1_1001_u      RAJ  BBT      0.0         NONE\n",
       "3   1_1003   1_1003_u   HOWARD  BBT      1.0          PRO\n",
       "4  1_10190  1_10190_u  SHELDON  BBT      0.0         NONE"
      ]
     },
     "execution_count": 3,
     "metadata": {},
     "output_type": "execute_result"
    }
   ],
   "source": [
    "labels.head(5)"
   ]
  },
  {
   "cell_type": "code",
   "execution_count": 4,
   "id": "5b9904e2",
   "metadata": {},
   "outputs": [],
   "source": [
    "scenes = list(pd.unique(labels[\"SCENE\"]))"
   ]
  },
  {
   "cell_type": "code",
   "execution_count": 5,
   "id": "88143cf7",
   "metadata": {
    "scrolled": true
   },
   "outputs": [
    {
     "data": {
      "text/plain": [
       "1202"
      ]
     },
     "execution_count": 5,
     "metadata": {},
     "output_type": "execute_result"
    }
   ],
   "source": [
    "len(scenes)"
   ]
  },
  {
   "cell_type": "code",
   "execution_count": 6,
   "id": "67bf3c9c",
   "metadata": {},
   "outputs": [],
   "source": [
    "file = open('text_embed_pca_final.pickle', 'rb')\n",
    "text_data = pickle.load(file)\n",
    "file.close()"
   ]
  },
  {
   "cell_type": "code",
   "execution_count": 7,
   "id": "e8c45255",
   "metadata": {},
   "outputs": [],
   "source": [
    "file = open('audio_embed_final.pickle', 'rb')\n",
    "audio_data = pickle.load(file)\n",
    "file.close()"
   ]
  },
  {
   "cell_type": "code",
   "execution_count": 8,
   "id": "cde91a64",
   "metadata": {},
   "outputs": [],
   "source": [
    "file = open('visual_embed_padded_final.pickle', 'rb')\n",
    "video_data = pickle.load(file)\n",
    "file.close()"
   ]
  },
  {
   "cell_type": "code",
   "execution_count": 9,
   "id": "0c283c69",
   "metadata": {},
   "outputs": [],
   "source": [
    "atv_data = {}\n",
    "for scene in scenes:\n",
    "    atv_data[scene] = np.concatenate((audio_data[scene], text_data[scene], video_data[scene]), axis=1)\n"
   ]
  },
  {
   "cell_type": "code",
   "execution_count": 10,
   "id": "69ffeb82",
   "metadata": {},
   "outputs": [
    {
     "data": {
      "text/plain": [
       "(18, 3506)"
      ]
     },
     "execution_count": 10,
     "metadata": {},
     "output_type": "execute_result"
    }
   ],
   "source": [
    "atv_data['1_10004'].shape"
   ]
  },
  {
   "cell_type": "code",
   "execution_count": 11,
   "id": "49f80367",
   "metadata": {},
   "outputs": [],
   "source": [
    "def get_model_data(atv_data):\n",
    "    model_data = pd.DataFrame(columns=['atv_feature','sarcasm','sarcasm_type', 'speaker'])\n",
    "    for index, row in labels.iterrows():\n",
    "#         audio_key = row[\"SCENE\"] + \"_u.wav\"\n",
    "        model_data = model_data.append({'atv_feature': atv_data[row['SCENE']], \n",
    "                                    'sarcasm' : row[\"Sarcasm\"],\n",
    "                                    'sarcasm_type' : row[\"Sarcasm_Type\"],\n",
    "                                    'speaker' : row[\"SPEAKER\"]},\n",
    "                                  ignore_index=True)\n",
    "    return model_data"
   ]
  },
  {
   "cell_type": "code",
   "execution_count": 12,
   "id": "c39e9e36",
   "metadata": {},
   "outputs": [],
   "source": [
    "def get_train_test_split(model_data, x_columns, y_column, stratify_column):\n",
    "    X_train, X_test, Y_train, Y_test = train_test_split(\n",
    "        model_data[x_columns],\n",
    "        model_data[y_column],\n",
    "        train_size=0.8, \n",
    "        test_size=0.2, \n",
    "        random_state=42, \n",
    "        shuffle=True,\n",
    "        stratify=model_data[stratify_column])\n",
    "    \n",
    "    print(\"Train: \",X_train.shape, Y_train.shape,\n",
    "      \"Test: \",(X_test.shape, Y_test.shape))\n",
    "    train_data = pd.merge(X_train, Y_train, left_index=True, right_index=True)\n",
    "    test_data = pd.merge(X_test, Y_test, left_index=True, right_index=True)\n",
    "    return train_data, test_data\n",
    "   "
   ]
  },
  {
   "cell_type": "code",
   "execution_count": 13,
   "id": "2d753e39",
   "metadata": {},
   "outputs": [],
   "source": [
    "class GRUTensorDataset(Dataset):\n",
    "    def __init__(self, dataframe, speaker):\n",
    "        self.data = dataframe\n",
    "        self.speaker = speaker\n",
    "\n",
    "    def __len__(self):\n",
    "        return len(self.data)\n",
    "\n",
    "    def __getitem__(self, index):\n",
    "        if self.speaker:\n",
    "            features = self.data.loc[index, 'padded_atv_feature']\n",
    "            a=np.empty((18,1))\n",
    "            a.fill(self.data.loc[index, 'speaker_encode'])\n",
    "            final_features = np.hstack((features, a))\n",
    "            label = self.data.loc[index, 'sarcasm']\n",
    "            return torch.from_numpy(final_features).float(), label\n",
    "        else:\n",
    "            features = self.data.loc[index, 'padded_atv_feature']\n",
    "            label = self.data.loc[index, 'sarcasm']\n",
    "            return torch.from_numpy(features).float(), label\n",
    "\n",
    "    def __getindexlist__(self):\n",
    "        return list(self.data.index.values)\n",
    "    \n",
    "class GRUNetSD(nn.Module):\n",
    "    def __init__(self, input_dim, hidden_dim, \n",
    "                 output_dim, n_layers):\n",
    "        super(GRUNetSD, self).__init__()\n",
    "        self.hidden_dim = hidden_dim\n",
    "        self.n_layers = n_layers\n",
    "        \n",
    "        self.gru = nn.GRU(input_dim, hidden_dim, \n",
    "                          n_layers, batch_first = True)\n",
    "        self.fc = nn.Linear(hidden_dim, output_dim)\n",
    "        self.softmax = nn.LogSoftmax(dim=1)\n",
    "        \n",
    "    def forward(self, x, h):\n",
    "        out, h = self.gru(x, h)\n",
    "        out = self.softmax(self.fc(out[:,-1]))\n",
    "        return out, h\n",
    "    \n",
    "    def init_hidden(self, batch_size):\n",
    "        weight = next(self.parameters()).data\n",
    "        hidden = weight.new(self.n_layers, batch_size, \n",
    "                            self.hidden_dim).zero_()\n",
    "        return hidden\n",
    "    \n",
    "class GRUNetSID(nn.Module):\n",
    "    def __init__(self, input_dim, hidden_dim, \n",
    "                 output_dim, n_layers):\n",
    "        super(GRUNetSID, self).__init__()\n",
    "        self.hidden_dim = hidden_dim\n",
    "        self.n_layers = n_layers\n",
    "        \n",
    "        self.gru = nn.GRU(input_dim, hidden_dim, \n",
    "                          n_layers, batch_first = True)\n",
    "        self.fc = nn.Linear(hidden_dim, output_dim)\n",
    "        self.softmax = nn.LogSoftmax(dim=1)\n",
    "        \n",
    "    def forward(self, x, h):\n",
    "        out, h = self.gru(x, h)\n",
    "        out = self.softmax(self.fc(out[:,-1]))\n",
    "        return out, h\n",
    "    \n",
    "    def init_hidden(self, batch_size):\n",
    "#         weight = next(self.parameters()).data\n",
    "#         hidden = weight.new(self.n_layers, batch_size, \n",
    "#                             self.hidden_dim).zero_()\n",
    "        return torch.zeros(self.n_layers, batch_size, self.hidden_dim)\n",
    "#         return hidden\n",
    "    \n",
    "def evaluateGRU(gru, review, size):\n",
    "    hidden = gru.init_hidden(size)\n",
    "    output, hidden = gru(review, hidden)\n",
    "    return output\n",
    "\n",
    "def categoryFromOutput(output):\n",
    "    top_n, top_i = torch.max(output,dim=1)\n",
    "    return top_i\n",
    "\n",
    "def test_accuracy(gru, loader, size):\n",
    "    actuals = []\n",
    "    predictions = []\n",
    "    for data, target in loader:\n",
    "        output = evaluateGRU(gru, data, size)\n",
    "        prediction_index = categoryFromOutput(output)\n",
    "        predictions = prediction_index.tolist()\n",
    "        actuals = target.tolist()\n",
    "    return predictions, actuals\n",
    "    \n",
    "hidden_size = 18\n",
    "output_size = 2\n",
    "input_size_sd = 3507\n",
    "n_layers = 1"
   ]
  },
  {
   "cell_type": "code",
   "execution_count": 14,
   "id": "508b145f",
   "metadata": {
    "scrolled": true
   },
   "outputs": [
    {
     "data": {
      "text/html": [
       "<div>\n",
       "<style scoped>\n",
       "    .dataframe tbody tr th:only-of-type {\n",
       "        vertical-align: middle;\n",
       "    }\n",
       "\n",
       "    .dataframe tbody tr th {\n",
       "        vertical-align: top;\n",
       "    }\n",
       "\n",
       "    .dataframe thead th {\n",
       "        text-align: right;\n",
       "    }\n",
       "</style>\n",
       "<table border=\"1\" class=\"dataframe\">\n",
       "  <thead>\n",
       "    <tr style=\"text-align: right;\">\n",
       "      <th></th>\n",
       "      <th>atv_feature</th>\n",
       "      <th>sarcasm</th>\n",
       "      <th>sarcasm_type</th>\n",
       "      <th>speaker</th>\n",
       "      <th>speaker_encode</th>\n",
       "    </tr>\n",
       "  </thead>\n",
       "  <tbody>\n",
       "    <tr>\n",
       "      <th>0</th>\n",
       "      <td>[[-637.1869506835938, 10.25528335571289, -3.98...</td>\n",
       "      <td>0.0</td>\n",
       "      <td>NONE</td>\n",
       "      <td>SHELDON</td>\n",
       "      <td>25</td>\n",
       "    </tr>\n",
       "    <tr>\n",
       "      <th>1</th>\n",
       "      <td>[[-625.8624267578125, 51.68547058105469, 40.30...</td>\n",
       "      <td>0.0</td>\n",
       "      <td>NONE</td>\n",
       "      <td>PENNY</td>\n",
       "      <td>15</td>\n",
       "    </tr>\n",
       "    <tr>\n",
       "      <th>2</th>\n",
       "      <td>[[-500.3988952636719, 21.715717315673828, 18.9...</td>\n",
       "      <td>0.0</td>\n",
       "      <td>NONE</td>\n",
       "      <td>RAJ</td>\n",
       "      <td>21</td>\n",
       "    </tr>\n",
       "    <tr>\n",
       "      <th>3</th>\n",
       "      <td>[[-313.1777038574219, 97.45339965820312, -58.0...</td>\n",
       "      <td>1.0</td>\n",
       "      <td>PRO</td>\n",
       "      <td>HOWARD</td>\n",
       "      <td>7</td>\n",
       "    </tr>\n",
       "    <tr>\n",
       "      <th>4</th>\n",
       "      <td>[[-337.88116455078125, 107.24081420898438, -49...</td>\n",
       "      <td>0.0</td>\n",
       "      <td>NONE</td>\n",
       "      <td>SHELDON</td>\n",
       "      <td>25</td>\n",
       "    </tr>\n",
       "  </tbody>\n",
       "</table>\n",
       "</div>"
      ],
      "text/plain": [
       "                                         atv_feature  sarcasm sarcasm_type  \\\n",
       "0  [[-637.1869506835938, 10.25528335571289, -3.98...      0.0         NONE   \n",
       "1  [[-625.8624267578125, 51.68547058105469, 40.30...      0.0         NONE   \n",
       "2  [[-500.3988952636719, 21.715717315673828, 18.9...      0.0         NONE   \n",
       "3  [[-313.1777038574219, 97.45339965820312, -58.0...      1.0          PRO   \n",
       "4  [[-337.88116455078125, 107.24081420898438, -49...      0.0         NONE   \n",
       "\n",
       "   speaker  speaker_encode  \n",
       "0  SHELDON              25  \n",
       "1    PENNY              15  \n",
       "2      RAJ              21  \n",
       "3   HOWARD               7  \n",
       "4  SHELDON              25  "
      ]
     },
     "execution_count": 14,
     "metadata": {},
     "output_type": "execute_result"
    }
   ],
   "source": [
    "warnings.filterwarnings(\"ignore\")\n",
    "\n",
    "model_data = get_model_data(atv_data)\n",
    "# Label Encode Speaker\n",
    "le = preprocessing.LabelEncoder()\n",
    "model_data['speaker_encode'] = le.fit_transform(model_data['speaker'])\n",
    "model_data.head(5)"
   ]
  },
  {
   "cell_type": "code",
   "execution_count": 15,
   "id": "79f6e290",
   "metadata": {},
   "outputs": [
    {
     "name": "stdout",
     "output_type": "stream",
     "text": [
      "Train:  (961, 2) (961,) Test:  ((241, 2), (241,))\n"
     ]
    }
   ],
   "source": [
    "desired_length = 18\n",
    "\n",
    "train_data, test_data = get_train_test_split(model_data, ['atv_feature', 'speaker_encode'], 'sarcasm', 'sarcasm')\n",
    "gru_train = train_data.copy()\n",
    "gru_test = test_data.copy()\n",
    "gru_train.reset_index(drop=True, inplace = True)\n",
    "gru_test.reset_index(drop=True, inplace = True)\n",
    "\n",
    "        \n",
    "gru_train['padded_atv_feature'] = gru_train.loc[:, 'atv_feature']\n",
    "gru_test['padded_atv_feature'] = gru_test.loc[:, 'atv_feature']\n",
    "\n",
    "gru_train[\"sarcasm\"] = gru_train[\"sarcasm\"].astype('int').to_numpy()\n",
    "gru_test[\"sarcasm\"] = gru_test[\"sarcasm\"].astype('int').to_numpy()"
   ]
  },
  {
   "cell_type": "markdown",
   "id": "879089b1",
   "metadata": {},
   "source": [
    "### Speaker Dependent"
   ]
  },
  {
   "cell_type": "code",
   "execution_count": 16,
   "id": "f972827b",
   "metadata": {},
   "outputs": [],
   "source": [
    "gru_train_tensor = GRUTensorDataset(gru_train[['padded_atv_feature', 'speaker_encode','sarcasm']], True)\n",
    "gru_test_tensor = GRUTensorDataset(gru_test[['padded_atv_feature', 'speaker_encode','sarcasm']], True)\n",
    "\n",
    "num_of_workers = 0\n",
    "batch_size = 32\n",
    "valid_size = 0.1\n",
    "\n",
    "train_indices = list(range(len(gru_train_tensor)))\n",
    "np.random.shuffle(train_indices)\n",
    "\n",
    "test_indices = list(range(len(gru_test_tensor)))\n",
    "np.random.shuffle(test_indices)\n",
    "\n",
    "train_loader = torch.utils.data.DataLoader(\n",
    "    gru_train_tensor, \n",
    "    batch_size=batch_size, \n",
    "    sampler=SubsetRandomSampler(train_indices),\n",
    "    drop_last=True\n",
    ")\n",
    "\n",
    "test_loader = torch.utils.data.DataLoader(\n",
    "    gru_test_tensor, \n",
    "    batch_size=batch_size, \n",
    "    sampler=SubsetRandomSampler(test_indices),\n",
    "    drop_last=True\n",
    ")"
   ]
  },
  {
   "cell_type": "code",
   "execution_count": 17,
   "id": "c36ed74d",
   "metadata": {},
   "outputs": [
    {
     "name": "stdout",
     "output_type": "stream",
     "text": [
      "GRUNetSD(\n",
      "  (gru): GRU(3507, 18, batch_first=True)\n",
      "  (fc): Linear(in_features=18, out_features=2, bias=True)\n",
      "  (softmax): LogSoftmax(dim=1)\n",
      ")\n"
     ]
    }
   ],
   "source": [
    "gru = GRUNetSD(input_size_sd, hidden_size, output_size, n_layers)\n",
    "print(gru)\n",
    "criterion = nn.NLLLoss()\n",
    "optimizer = torch.optim.Adam(gru.parameters(), lr=0.001)"
   ]
  },
  {
   "cell_type": "code",
   "execution_count": 18,
   "id": "d915c1f3",
   "metadata": {
    "scrolled": false
   },
   "outputs": [
    {
     "name": "stdout",
     "output_type": "stream",
     "text": [
      "Epoch: 0\n",
      "              precision    recall  f1-score     support\n",
      "0              0.558824  0.785124  0.652921  121.000000\n",
      "1              0.633803  0.375000  0.471204  120.000000\n",
      "accuracy       0.580913  0.580913  0.580913    0.580913\n",
      "macro avg      0.596313  0.580062  0.562063  241.000000\n",
      "weighted avg   0.596158  0.580913  0.562440  241.000000\n",
      "Epoch: 5\n",
      "              precision    recall  f1-score     support\n",
      "0              0.559441  0.661157  0.606061  121.000000\n",
      "1              0.581633  0.475000  0.522936  120.000000\n",
      "accuracy       0.568465  0.568465  0.568465    0.568465\n",
      "macro avg      0.570537  0.568079  0.564498  241.000000\n",
      "weighted avg   0.570491  0.568465  0.564671  241.000000\n",
      "Epoch: 10\n",
      "              precision    recall  f1-score     support\n",
      "0              0.565217  0.644628  0.602317  121.000000\n",
      "1              0.582524  0.500000  0.538117  120.000000\n",
      "accuracy       0.572614  0.572614  0.572614    0.572614\n",
      "macro avg      0.573871  0.572314  0.570217  241.000000\n",
      "weighted avg   0.573835  0.572614  0.570350  241.000000\n",
      "Epoch: 15\n",
      "              precision    recall  f1-score     support\n",
      "0              0.547445  0.619835  0.581395  121.000000\n",
      "1              0.557692  0.483333  0.517857  120.000000\n",
      "accuracy       0.551867  0.551867  0.551867    0.551867\n",
      "macro avg      0.552569  0.551584  0.549626  241.000000\n",
      "weighted avg   0.552548  0.551867  0.549758  241.000000\n",
      "Epoch: 20\n",
      "              precision    recall  f1-score     support\n",
      "0              0.558824  0.628099  0.591440  121.000000\n",
      "1              0.571429  0.500000  0.533333  120.000000\n",
      "accuracy       0.564315  0.564315  0.564315    0.564315\n",
      "macro avg      0.565126  0.564050  0.562387  241.000000\n",
      "weighted avg   0.565100  0.564315  0.562507  241.000000\n",
      "Epoch: 25\n",
      "              precision    recall  f1-score     support\n",
      "0              0.548148  0.611570  0.578125  121.000000\n",
      "1              0.556604  0.491667  0.522124  120.000000\n",
      "accuracy       0.551867  0.551867  0.551867    0.551867\n",
      "macro avg      0.552376  0.551618  0.550124  241.000000\n",
      "weighted avg   0.552358  0.551867  0.550241  241.000000\n",
      "Epoch: 30\n",
      "              precision    recall  f1-score     support\n",
      "0              0.536232  0.611570  0.571429  121.000000\n",
      "1              0.543689  0.466667  0.502242  120.000000\n",
      "accuracy       0.539419  0.539419  0.539419    0.539419\n",
      "macro avg      0.539961  0.539118  0.536835  241.000000\n",
      "weighted avg   0.539945  0.539419  0.536979  241.000000\n",
      "Epoch: 35\n",
      "              precision    recall  f1-score     support\n",
      "0              0.540741  0.603306  0.570312  121.000000\n",
      "1              0.547170  0.483333  0.513274  120.000000\n",
      "accuracy       0.543568  0.543568  0.543568    0.543568\n",
      "macro avg      0.543955  0.543320  0.541793  241.000000\n",
      "weighted avg   0.543942  0.543568  0.541912  241.000000\n",
      "Epoch: 40\n",
      "              precision    recall  f1-score     support\n",
      "0              0.544118  0.611570  0.575875  121.000000\n",
      "1              0.552381  0.483333  0.515556  120.000000\n",
      "accuracy       0.547718  0.547718  0.547718    0.547718\n",
      "macro avg      0.548249  0.547452  0.545716  241.000000\n",
      "weighted avg   0.548232  0.547718  0.545841  241.000000\n"
     ]
    }
   ],
   "source": [
    "n_epochs = 41\n",
    "    \n",
    "test_min_loss = np.inf\n",
    "\n",
    "for epoch in range(n_epochs):\n",
    "    torch.manual_seed(42)\n",
    "    train_loss = 0.0\n",
    "    test_loss = 0.0\n",
    "    gru.train()\n",
    "    for data, target in train_loader:\n",
    "        h = gru.init_hidden(batch_size)\n",
    "        optimizer.zero_grad()\n",
    "        output, h = gru(data, h.data)\n",
    "        loss = criterion(output, target)\n",
    "        loss.backward()\n",
    "        optimizer.step()\n",
    "        train_loss += loss.item()*data.size(0)\n",
    "\n",
    "    gru.eval()\n",
    "    for data, target in test_loader:\n",
    "        if data.shape[1] < 44:\n",
    "            continue\n",
    "        h = gru.init_hidden(batch_size)\n",
    "        output, h = gru(data, h.data)\n",
    "        loss = criterion(output, target)\n",
    "        test_loss += loss.item()*data.size(0)\n",
    "\n",
    "    train_loss = train_loss / len(train_loader.dataset)\n",
    "    test_loss = test_loss / len(test_loader.dataset)\n",
    "    \n",
    "#     if(epoch%20 == 0):\n",
    "# #         print(f\"Epoch: {epoch+1:02}\")\n",
    "# #         print(\"\\tTraining Loss: {:.6f} \\Test Loss: {:.6f}\".format(train_loss, test_loss))\n",
    "#     if test_loss <= test_min_loss:\n",
    "# #         print(\"Test loss decreased ({:.6f} --> {:.6f}). Saving model...\".format(test_min_loss, test_loss))\n",
    "# #         torch.save(gru.state_dict(), \"grumodel.pt\")\n",
    "#         test_min_loss = test_loss\n",
    "    if(epoch%5 == 0):\n",
    "        print(\"Epoch: \" + str(epoch))\n",
    "        test_loader = torch.utils.data.DataLoader(gru_test_tensor, batch_size=gru_test_tensor.__len__())\n",
    "        predictions, actuals = test_accuracy(gru, test_loader, gru_test_tensor.__len__())\n",
    "        print(pd.DataFrame(classification_report(actuals, predictions, output_dict=True)).T)\n",
    "        test_loader = torch.utils.data.DataLoader(gru_test_tensor, batch_size=batch_size, sampler=SubsetRandomSampler(test_indices))"
   ]
  },
  {
   "cell_type": "code",
   "execution_count": null,
   "id": "fe4bb5f1",
   "metadata": {},
   "outputs": [],
   "source": []
  }
 ],
 "metadata": {
  "kernelspec": {
   "display_name": "Python 3 (ipykernel)",
   "language": "python",
   "name": "python3"
  },
  "language_info": {
   "codemirror_mode": {
    "name": "ipython",
    "version": 3
   },
   "file_extension": ".py",
   "mimetype": "text/x-python",
   "name": "python",
   "nbconvert_exporter": "python",
   "pygments_lexer": "ipython3",
   "version": "3.8.10"
  }
 },
 "nbformat": 4,
 "nbformat_minor": 5
}
