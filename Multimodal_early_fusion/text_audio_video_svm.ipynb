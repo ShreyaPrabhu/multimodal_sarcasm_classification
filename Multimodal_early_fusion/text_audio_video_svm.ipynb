{
 "cells": [
  {
   "cell_type": "code",
   "execution_count": 1,
   "id": "809d57fc",
   "metadata": {},
   "outputs": [],
   "source": [
    "import pandas as pd\n",
    "import numpy as np\n",
    "import os\n",
    "import warnings\n",
    "from sklearn import preprocessing\n",
    "import pickle\n",
    "\n",
    "from sklearn.svm import SVC\n",
    "from sklearn import svm\n",
    "from sklearn.metrics import classification_report\n",
    "from sklearn.model_selection import train_test_split\n",
    "from sklearn.model_selection import GridSearchCV"
   ]
  },
  {
   "cell_type": "code",
   "execution_count": 2,
   "id": "d0b3e97f",
   "metadata": {},
   "outputs": [],
   "source": [
    "labels = pd.read_csv(\"scene_labels.csv\")"
   ]
  },
  {
   "cell_type": "code",
   "execution_count": 3,
   "id": "f17a8765",
   "metadata": {
    "scrolled": false
   },
   "outputs": [
    {
     "data": {
      "text/html": [
       "<div>\n",
       "<style scoped>\n",
       "    .dataframe tbody tr th:only-of-type {\n",
       "        vertical-align: middle;\n",
       "    }\n",
       "\n",
       "    .dataframe tbody tr th {\n",
       "        vertical-align: top;\n",
       "    }\n",
       "\n",
       "    .dataframe thead th {\n",
       "        text-align: right;\n",
       "    }\n",
       "</style>\n",
       "<table border=\"1\" class=\"dataframe\">\n",
       "  <thead>\n",
       "    <tr style=\"text-align: right;\">\n",
       "      <th></th>\n",
       "      <th>SCENE</th>\n",
       "      <th>KEY</th>\n",
       "      <th>SPEAKER</th>\n",
       "      <th>SHOW</th>\n",
       "      <th>Sarcasm</th>\n",
       "      <th>Sarcasm_Type</th>\n",
       "    </tr>\n",
       "  </thead>\n",
       "  <tbody>\n",
       "    <tr>\n",
       "      <th>0</th>\n",
       "      <td>1_10004</td>\n",
       "      <td>1_10004_u</td>\n",
       "      <td>SHELDON</td>\n",
       "      <td>BBT</td>\n",
       "      <td>0.0</td>\n",
       "      <td>NONE</td>\n",
       "    </tr>\n",
       "    <tr>\n",
       "      <th>1</th>\n",
       "      <td>1_10009</td>\n",
       "      <td>1_10009_u</td>\n",
       "      <td>PENNY</td>\n",
       "      <td>BBT</td>\n",
       "      <td>0.0</td>\n",
       "      <td>NONE</td>\n",
       "    </tr>\n",
       "    <tr>\n",
       "      <th>2</th>\n",
       "      <td>1_1001</td>\n",
       "      <td>1_1001_u</td>\n",
       "      <td>RAJ</td>\n",
       "      <td>BBT</td>\n",
       "      <td>0.0</td>\n",
       "      <td>NONE</td>\n",
       "    </tr>\n",
       "    <tr>\n",
       "      <th>3</th>\n",
       "      <td>1_1003</td>\n",
       "      <td>1_1003_u</td>\n",
       "      <td>HOWARD</td>\n",
       "      <td>BBT</td>\n",
       "      <td>1.0</td>\n",
       "      <td>PRO</td>\n",
       "    </tr>\n",
       "    <tr>\n",
       "      <th>4</th>\n",
       "      <td>1_10190</td>\n",
       "      <td>1_10190_u</td>\n",
       "      <td>SHELDON</td>\n",
       "      <td>BBT</td>\n",
       "      <td>0.0</td>\n",
       "      <td>NONE</td>\n",
       "    </tr>\n",
       "  </tbody>\n",
       "</table>\n",
       "</div>"
      ],
      "text/plain": [
       "     SCENE        KEY  SPEAKER SHOW  Sarcasm Sarcasm_Type\n",
       "0  1_10004  1_10004_u  SHELDON  BBT      0.0         NONE\n",
       "1  1_10009  1_10009_u    PENNY  BBT      0.0         NONE\n",
       "2   1_1001   1_1001_u      RAJ  BBT      0.0         NONE\n",
       "3   1_1003   1_1003_u   HOWARD  BBT      1.0          PRO\n",
       "4  1_10190  1_10190_u  SHELDON  BBT      0.0         NONE"
      ]
     },
     "execution_count": 3,
     "metadata": {},
     "output_type": "execute_result"
    }
   ],
   "source": [
    "labels.head(5)"
   ]
  },
  {
   "cell_type": "code",
   "execution_count": 4,
   "id": "5b9904e2",
   "metadata": {},
   "outputs": [],
   "source": [
    "scenes = list(pd.unique(labels[\"SCENE\"]))"
   ]
  },
  {
   "cell_type": "code",
   "execution_count": 5,
   "id": "88143cf7",
   "metadata": {},
   "outputs": [
    {
     "data": {
      "text/plain": [
       "1202"
      ]
     },
     "execution_count": 5,
     "metadata": {},
     "output_type": "execute_result"
    }
   ],
   "source": [
    "len(scenes)"
   ]
  },
  {
   "cell_type": "code",
   "execution_count": 6,
   "id": "67bf3c9c",
   "metadata": {},
   "outputs": [],
   "source": [
    "file = open('audio_embed_final.pickle', 'rb')\n",
    "audio_data = pickle.load(file)\n",
    "file.close()"
   ]
  },
  {
   "cell_type": "code",
   "execution_count": 7,
   "id": "cde91a64",
   "metadata": {},
   "outputs": [],
   "source": [
    "file = open('text_embed_pca_final.pickle', 'rb')\n",
    "text_data = pickle.load(file)\n",
    "file.close()"
   ]
  },
  {
   "cell_type": "code",
   "execution_count": 8,
   "id": "728bb89b",
   "metadata": {},
   "outputs": [],
   "source": [
    "file = open('visual_embed_padded_final.pickle', 'rb')\n",
    "video_data = pickle.load(file)\n",
    "file.close()"
   ]
  },
  {
   "cell_type": "code",
   "execution_count": 9,
   "id": "0c283c69",
   "metadata": {},
   "outputs": [],
   "source": [
    "atv_data = {}\n",
    "for scene in scenes:\n",
    "    atv_data[scene] = np.concatenate((audio_data[scene], text_data[scene], video_data[scene]), axis=1)\n"
   ]
  },
  {
   "cell_type": "code",
   "execution_count": 10,
   "id": "49f80367",
   "metadata": {},
   "outputs": [],
   "source": [
    "def get_model_data(atv_data):\n",
    "    model_data = pd.DataFrame(columns=['atv_feature','sarcasm','sarcasm_type', 'speaker'])\n",
    "    for index, row in labels.iterrows():\n",
    "        model_data = model_data.append({'atv_feature': atv_data[row['SCENE']], \n",
    "                                    'sarcasm' : row[\"Sarcasm\"],\n",
    "                                    'sarcasm_type' : row[\"Sarcasm_Type\"],\n",
    "                                    'speaker' : row[\"SPEAKER\"]},\n",
    "                                  ignore_index=True)\n",
    "    return model_data"
   ]
  },
  {
   "cell_type": "code",
   "execution_count": 11,
   "id": "5214c626",
   "metadata": {},
   "outputs": [],
   "source": [
    "def get_mean_pool(video) -> np.ndarray:\n",
    "    return np.array([np.mean(feature_vector, axis=0) for feature_vector in video])"
   ]
  },
  {
   "cell_type": "code",
   "execution_count": 12,
   "id": "c39e9e36",
   "metadata": {},
   "outputs": [],
   "source": [
    "def get_train_test_split(model_data, x_columns, y_column, stratify_column):\n",
    "    X_train, X_test, Y_train, Y_test = train_test_split(\n",
    "        model_data[x_columns],\n",
    "        model_data[y_column],\n",
    "        train_size=0.8, \n",
    "        test_size=0.2, \n",
    "        random_state=42, \n",
    "        shuffle=True,\n",
    "        stratify=model_data[stratify_column])\n",
    "    \n",
    "    print(\"Train: \",X_train.shape, Y_train.shape,\n",
    "      \"Test: \",(X_test.shape, Y_test.shape))\n",
    "    print(type(X_train))\n",
    "    return X_train, X_test, Y_train, Y_test\n",
    "\n",
    "def process_dataframes_pool(data):\n",
    "    temp_concat = pd.concat([data, data.atv_feature.apply(pd.Series)], axis=1)\n",
    "    temp_concat.drop(columns=['atv_feature'], inplace = True)\n",
    "    return temp_concat.add_prefix('feat_')\n",
    "\n",
    "def get_pooled_data(X_train, X_test, pool_type = \"mean\"):\n",
    "    if pool_type == \"mean\":\n",
    "        X_train_mean = X_train.copy()\n",
    "        X_train_mean[\"atv_feature\"] = get_mean_pool(X_train[\"atv_feature\"]).tolist()\n",
    "        X_test_mean = X_test.copy()\n",
    "        X_test_mean[\"atv_feature\"] = get_mean_pool(X_test[\"atv_feature\"]).tolist()\n",
    "        return process_dataframes_pool(X_train_mean), process_dataframes_pool(X_test_mean)\n"
   ]
  },
  {
   "cell_type": "code",
   "execution_count": 13,
   "id": "2d753e39",
   "metadata": {},
   "outputs": [],
   "source": [
    "def svm_classifier(X_train, X_test, Y_train, Y_test):\n",
    "    svm_clf = svm.SVC(random_state=0, kernel = \"rbf\", gamma = \"scale\", class_weight = \"balanced\")\n",
    "    C = C = [0.0001, 0.0003, 0.0005, 0.001, 0.003, 0.005, 0.01, 0.03, 0.05, 0.1, 0.3, 0.5, 1, 3, 5, 10]\n",
    "    gscv_clf = GridSearchCV(\n",
    "        estimator=svm_clf, \n",
    "        param_grid=dict(C=C),\n",
    "        n_jobs=-1, \n",
    "        cv = 10, \n",
    "        scoring = 'f1_micro', \n",
    "        refit = True)\n",
    "\n",
    "    gscv_clf.fit(X_train, Y_train)\n",
    "    Y_test_pred = gscv_clf.predict(X_test)\n",
    "    report = classification_report(Y_test, Y_test_pred, digits=4)\n",
    "    return report, gscv_clf.best_estimator_"
   ]
  },
  {
   "cell_type": "code",
   "execution_count": 14,
   "id": "508b145f",
   "metadata": {},
   "outputs": [
    {
     "data": {
      "text/html": [
       "<div>\n",
       "<style scoped>\n",
       "    .dataframe tbody tr th:only-of-type {\n",
       "        vertical-align: middle;\n",
       "    }\n",
       "\n",
       "    .dataframe tbody tr th {\n",
       "        vertical-align: top;\n",
       "    }\n",
       "\n",
       "    .dataframe thead th {\n",
       "        text-align: right;\n",
       "    }\n",
       "</style>\n",
       "<table border=\"1\" class=\"dataframe\">\n",
       "  <thead>\n",
       "    <tr style=\"text-align: right;\">\n",
       "      <th></th>\n",
       "      <th>atv_feature</th>\n",
       "      <th>sarcasm</th>\n",
       "      <th>sarcasm_type</th>\n",
       "      <th>speaker</th>\n",
       "      <th>speaker_encode</th>\n",
       "    </tr>\n",
       "  </thead>\n",
       "  <tbody>\n",
       "    <tr>\n",
       "      <th>0</th>\n",
       "      <td>[[-637.1869506835938, 10.25528335571289, -3.98...</td>\n",
       "      <td>0.0</td>\n",
       "      <td>NONE</td>\n",
       "      <td>SHELDON</td>\n",
       "      <td>25</td>\n",
       "    </tr>\n",
       "    <tr>\n",
       "      <th>1</th>\n",
       "      <td>[[-625.8624267578125, 51.68547058105469, 40.30...</td>\n",
       "      <td>0.0</td>\n",
       "      <td>NONE</td>\n",
       "      <td>PENNY</td>\n",
       "      <td>15</td>\n",
       "    </tr>\n",
       "    <tr>\n",
       "      <th>2</th>\n",
       "      <td>[[-500.3988952636719, 21.715717315673828, 18.9...</td>\n",
       "      <td>0.0</td>\n",
       "      <td>NONE</td>\n",
       "      <td>RAJ</td>\n",
       "      <td>21</td>\n",
       "    </tr>\n",
       "    <tr>\n",
       "      <th>3</th>\n",
       "      <td>[[-313.1777038574219, 97.45339965820312, -58.0...</td>\n",
       "      <td>1.0</td>\n",
       "      <td>PRO</td>\n",
       "      <td>HOWARD</td>\n",
       "      <td>7</td>\n",
       "    </tr>\n",
       "    <tr>\n",
       "      <th>4</th>\n",
       "      <td>[[-337.88116455078125, 107.24081420898438, -49...</td>\n",
       "      <td>0.0</td>\n",
       "      <td>NONE</td>\n",
       "      <td>SHELDON</td>\n",
       "      <td>25</td>\n",
       "    </tr>\n",
       "  </tbody>\n",
       "</table>\n",
       "</div>"
      ],
      "text/plain": [
       "                                         atv_feature  sarcasm sarcasm_type  \\\n",
       "0  [[-637.1869506835938, 10.25528335571289, -3.98...      0.0         NONE   \n",
       "1  [[-625.8624267578125, 51.68547058105469, 40.30...      0.0         NONE   \n",
       "2  [[-500.3988952636719, 21.715717315673828, 18.9...      0.0         NONE   \n",
       "3  [[-313.1777038574219, 97.45339965820312, -58.0...      1.0          PRO   \n",
       "4  [[-337.88116455078125, 107.24081420898438, -49...      0.0         NONE   \n",
       "\n",
       "   speaker  speaker_encode  \n",
       "0  SHELDON              25  \n",
       "1    PENNY              15  \n",
       "2      RAJ              21  \n",
       "3   HOWARD               7  \n",
       "4  SHELDON              25  "
      ]
     },
     "execution_count": 14,
     "metadata": {},
     "output_type": "execute_result"
    }
   ],
   "source": [
    "warnings.filterwarnings(\"ignore\")\n",
    "\n",
    "model_data = get_model_data(atv_data)\n",
    "# Label Encode Speaker\n",
    "le = preprocessing.LabelEncoder()\n",
    "model_data['speaker_encode'] = le.fit_transform(model_data['speaker'])\n",
    "model_data.head(5)"
   ]
  },
  {
   "cell_type": "markdown",
   "id": "879089b1",
   "metadata": {},
   "source": [
    "### Speaker Dependent"
   ]
  },
  {
   "cell_type": "code",
   "execution_count": 15,
   "id": "f972827b",
   "metadata": {},
   "outputs": [
    {
     "name": "stdout",
     "output_type": "stream",
     "text": [
      "Train:  (961, 2) (961,) Test:  ((241, 2), (241,))\n",
      "<class 'pandas.core.frame.DataFrame'>\n"
     ]
    }
   ],
   "source": [
    "X_train, X_test, Y_train, Y_test = get_train_test_split(model_data, ['atv_feature', 'speaker_encode'], 'sarcasm', 'sarcasm')\n",
    "X_train_mean, X_test_mean = get_pooled_data(X_train, X_test, \"mean\")"
   ]
  },
  {
   "cell_type": "code",
   "execution_count": 16,
   "id": "c36ed74d",
   "metadata": {},
   "outputs": [
    {
     "data": {
      "text/html": [
       "<div>\n",
       "<style scoped>\n",
       "    .dataframe tbody tr th:only-of-type {\n",
       "        vertical-align: middle;\n",
       "    }\n",
       "\n",
       "    .dataframe tbody tr th {\n",
       "        vertical-align: top;\n",
       "    }\n",
       "\n",
       "    .dataframe thead th {\n",
       "        text-align: right;\n",
       "    }\n",
       "</style>\n",
       "<table border=\"1\" class=\"dataframe\">\n",
       "  <thead>\n",
       "    <tr style=\"text-align: right;\">\n",
       "      <th></th>\n",
       "      <th>feat_speaker_encode</th>\n",
       "      <th>feat_0</th>\n",
       "      <th>feat_1</th>\n",
       "      <th>feat_2</th>\n",
       "      <th>feat_3</th>\n",
       "      <th>feat_4</th>\n",
       "      <th>feat_5</th>\n",
       "      <th>feat_6</th>\n",
       "      <th>feat_7</th>\n",
       "      <th>feat_8</th>\n",
       "      <th>...</th>\n",
       "      <th>feat_3496</th>\n",
       "      <th>feat_3497</th>\n",
       "      <th>feat_3498</th>\n",
       "      <th>feat_3499</th>\n",
       "      <th>feat_3500</th>\n",
       "      <th>feat_3501</th>\n",
       "      <th>feat_3502</th>\n",
       "      <th>feat_3503</th>\n",
       "      <th>feat_3504</th>\n",
       "      <th>feat_3505</th>\n",
       "    </tr>\n",
       "  </thead>\n",
       "  <tbody>\n",
       "    <tr>\n",
       "      <th>324</th>\n",
       "      <td>25</td>\n",
       "      <td>-309.633377</td>\n",
       "      <td>28.205383</td>\n",
       "      <td>-23.962814</td>\n",
       "      <td>8.264493</td>\n",
       "      <td>0.502298</td>\n",
       "      <td>-10.360812</td>\n",
       "      <td>-7.408038</td>\n",
       "      <td>-4.478196</td>\n",
       "      <td>-5.369362</td>\n",
       "      <td>...</td>\n",
       "      <td>0.041239</td>\n",
       "      <td>0.053222</td>\n",
       "      <td>0.047092</td>\n",
       "      <td>0.044052</td>\n",
       "      <td>0.057916</td>\n",
       "      <td>0.020851</td>\n",
       "      <td>0.053538</td>\n",
       "      <td>0.035359</td>\n",
       "      <td>0.050763</td>\n",
       "      <td>0.039219</td>\n",
       "    </tr>\n",
       "    <tr>\n",
       "      <th>642</th>\n",
       "      <td>1</td>\n",
       "      <td>-377.257815</td>\n",
       "      <td>22.165556</td>\n",
       "      <td>-7.688077</td>\n",
       "      <td>1.793058</td>\n",
       "      <td>-3.076399</td>\n",
       "      <td>-4.935691</td>\n",
       "      <td>-7.138889</td>\n",
       "      <td>-5.397475</td>\n",
       "      <td>-7.337884</td>\n",
       "      <td>...</td>\n",
       "      <td>0.023595</td>\n",
       "      <td>0.027295</td>\n",
       "      <td>0.025616</td>\n",
       "      <td>0.022845</td>\n",
       "      <td>0.022523</td>\n",
       "      <td>0.008976</td>\n",
       "      <td>0.025631</td>\n",
       "      <td>0.017353</td>\n",
       "      <td>0.025114</td>\n",
       "      <td>0.019310</td>\n",
       "    </tr>\n",
       "    <tr>\n",
       "      <th>799</th>\n",
       "      <td>16</td>\n",
       "      <td>-412.100070</td>\n",
       "      <td>38.079424</td>\n",
       "      <td>-19.959661</td>\n",
       "      <td>4.498839</td>\n",
       "      <td>-6.360410</td>\n",
       "      <td>-10.015628</td>\n",
       "      <td>-2.164258</td>\n",
       "      <td>-6.037595</td>\n",
       "      <td>-4.609024</td>\n",
       "      <td>...</td>\n",
       "      <td>0.037934</td>\n",
       "      <td>0.049429</td>\n",
       "      <td>0.045749</td>\n",
       "      <td>0.042964</td>\n",
       "      <td>0.048225</td>\n",
       "      <td>0.021547</td>\n",
       "      <td>0.051708</td>\n",
       "      <td>0.036421</td>\n",
       "      <td>0.047238</td>\n",
       "      <td>0.037284</td>\n",
       "    </tr>\n",
       "    <tr>\n",
       "      <th>581</th>\n",
       "      <td>0</td>\n",
       "      <td>-377.630487</td>\n",
       "      <td>40.764981</td>\n",
       "      <td>-15.825529</td>\n",
       "      <td>3.544501</td>\n",
       "      <td>5.060644</td>\n",
       "      <td>-1.968106</td>\n",
       "      <td>-8.223052</td>\n",
       "      <td>0.048321</td>\n",
       "      <td>-7.808522</td>\n",
       "      <td>...</td>\n",
       "      <td>0.048638</td>\n",
       "      <td>0.047141</td>\n",
       "      <td>0.051199</td>\n",
       "      <td>0.043347</td>\n",
       "      <td>0.052052</td>\n",
       "      <td>0.019797</td>\n",
       "      <td>0.048663</td>\n",
       "      <td>0.038394</td>\n",
       "      <td>0.047618</td>\n",
       "      <td>0.039271</td>\n",
       "    </tr>\n",
       "    <tr>\n",
       "      <th>718</th>\n",
       "      <td>2</td>\n",
       "      <td>-392.259138</td>\n",
       "      <td>31.090350</td>\n",
       "      <td>-9.662526</td>\n",
       "      <td>4.076527</td>\n",
       "      <td>-7.194349</td>\n",
       "      <td>-4.926465</td>\n",
       "      <td>-4.253204</td>\n",
       "      <td>-3.178074</td>\n",
       "      <td>-4.550088</td>\n",
       "      <td>...</td>\n",
       "      <td>0.183438</td>\n",
       "      <td>0.197780</td>\n",
       "      <td>0.196845</td>\n",
       "      <td>0.159446</td>\n",
       "      <td>0.204896</td>\n",
       "      <td>0.079009</td>\n",
       "      <td>0.200967</td>\n",
       "      <td>0.143274</td>\n",
       "      <td>0.203651</td>\n",
       "      <td>0.140484</td>\n",
       "    </tr>\n",
       "  </tbody>\n",
       "</table>\n",
       "<p>5 rows × 3507 columns</p>\n",
       "</div>"
      ],
      "text/plain": [
       "     feat_speaker_encode      feat_0     feat_1     feat_2    feat_3  \\\n",
       "324                   25 -309.633377  28.205383 -23.962814  8.264493   \n",
       "642                    1 -377.257815  22.165556  -7.688077  1.793058   \n",
       "799                   16 -412.100070  38.079424 -19.959661  4.498839   \n",
       "581                    0 -377.630487  40.764981 -15.825529  3.544501   \n",
       "718                    2 -392.259138  31.090350  -9.662526  4.076527   \n",
       "\n",
       "       feat_4     feat_5    feat_6    feat_7    feat_8  ...  feat_3496  \\\n",
       "324  0.502298 -10.360812 -7.408038 -4.478196 -5.369362  ...   0.041239   \n",
       "642 -3.076399  -4.935691 -7.138889 -5.397475 -7.337884  ...   0.023595   \n",
       "799 -6.360410 -10.015628 -2.164258 -6.037595 -4.609024  ...   0.037934   \n",
       "581  5.060644  -1.968106 -8.223052  0.048321 -7.808522  ...   0.048638   \n",
       "718 -7.194349  -4.926465 -4.253204 -3.178074 -4.550088  ...   0.183438   \n",
       "\n",
       "     feat_3497  feat_3498  feat_3499  feat_3500  feat_3501  feat_3502  \\\n",
       "324   0.053222   0.047092   0.044052   0.057916   0.020851   0.053538   \n",
       "642   0.027295   0.025616   0.022845   0.022523   0.008976   0.025631   \n",
       "799   0.049429   0.045749   0.042964   0.048225   0.021547   0.051708   \n",
       "581   0.047141   0.051199   0.043347   0.052052   0.019797   0.048663   \n",
       "718   0.197780   0.196845   0.159446   0.204896   0.079009   0.200967   \n",
       "\n",
       "     feat_3503  feat_3504  feat_3505  \n",
       "324   0.035359   0.050763   0.039219  \n",
       "642   0.017353   0.025114   0.019310  \n",
       "799   0.036421   0.047238   0.037284  \n",
       "581   0.038394   0.047618   0.039271  \n",
       "718   0.143274   0.203651   0.140484  \n",
       "\n",
       "[5 rows x 3507 columns]"
      ]
     },
     "execution_count": 16,
     "metadata": {},
     "output_type": "execute_result"
    }
   ],
   "source": [
    "X_train_mean.head()"
   ]
  },
  {
   "cell_type": "code",
   "execution_count": 17,
   "id": "d915c1f3",
   "metadata": {},
   "outputs": [
    {
     "name": "stdout",
     "output_type": "stream",
     "text": [
      "Processing Mean-pooled data\n"
     ]
    }
   ],
   "source": [
    "print(\"Processing Mean-pooled data\")\n",
    "mean_report, mean_best_est = svm_classifier(X_train_mean, X_test_mean, Y_train, Y_test)"
   ]
  },
  {
   "cell_type": "code",
   "execution_count": 18,
   "id": "edfa0ada",
   "metadata": {},
   "outputs": [
    {
     "name": "stdout",
     "output_type": "stream",
     "text": [
      "********************************mean report********************************\n",
      "              precision    recall  f1-score   support\n",
      "\n",
      "         0.0     0.6557    0.6612    0.6584       121\n",
      "         1.0     0.6555    0.6500    0.6527       120\n",
      "\n",
      "    accuracy                         0.6556       241\n",
      "   macro avg     0.6556    0.6556    0.6556       241\n",
      "weighted avg     0.6556    0.6556    0.6556       241\n",
      "\n",
      "SVC(C=10, class_weight='balanced', random_state=0)\n"
     ]
    }
   ],
   "source": [
    "print(\"********************************mean report********************************\")\n",
    "print(mean_report)\n",
    "print(mean_best_est)"
   ]
  }
 ],
 "metadata": {
  "kernelspec": {
   "display_name": "Python 3 (ipykernel)",
   "language": "python",
   "name": "python3"
  },
  "language_info": {
   "codemirror_mode": {
    "name": "ipython",
    "version": 3
   },
   "file_extension": ".py",
   "mimetype": "text/x-python",
   "name": "python",
   "nbconvert_exporter": "python",
   "pygments_lexer": "ipython3",
   "version": "3.8.10"
  }
 },
 "nbformat": 4,
 "nbformat_minor": 5
}
