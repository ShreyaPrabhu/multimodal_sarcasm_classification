{
  "cells": [
    {
      "cell_type": "code",
      "execution_count": 29,
      "metadata": {
        "colab": {
          "base_uri": "https://localhost:8080/"
        },
        "id": "JDxDJdiHSXV6",
        "outputId": "64f5f971-00b7-41d6-fd9a-1395ccb6a42b"
      },
      "outputs": [
        {
          "name": "stdout",
          "output_type": "stream",
          "text": [
            "Drive already mounted at /content/drive; to attempt to forcibly remount, call drive.mount(\"/content/drive\", force_remount=True).\n"
          ]
        }
      ],
      "source": [
        "from google.colab import drive\n",
        "drive.mount('/content/drive')"
      ]
    },
    {
      "cell_type": "code",
      "execution_count": 30,
      "metadata": {
        "id": "qlTdmDUsSgGq"
      },
      "outputs": [],
      "source": [
        "import os\n",
        "os.chdir('/content/drive/My Drive/multimodal_sarcasm_dataset/data/features/')"
      ]
    },
    {
      "cell_type": "code",
      "execution_count": 31,
      "metadata": {
        "id": "d4VoIl-8TQDo"
      },
      "outputs": [],
      "source": [
        "import tensorflow as tf\n",
        "import tensorflow_hub as hub\n",
        "import os \n",
        "import pickle\n",
        "import pandas as pd\n",
        "import warnings\n",
        "warnings.filterwarnings('ignore')\n",
        "import numpy as np"
      ]
    },
    {
      "cell_type": "code",
      "execution_count": 32,
      "metadata": {
        "id": "S5aoJLNYTSB9"
      },
      "outputs": [],
      "source": [
        "with open('feat_dict_context_librosa_lld_trill16k.pickle', 'rb') as f:\n",
        "    librosa_audio_features = pickle.load(f, encoding='latin1')"
      ]
    },
    {
      "cell_type": "code",
      "execution_count": 33,
      "metadata": {
        "id": "Nb2cn6gsTTrr"
      },
      "outputs": [],
      "source": [
        "labels = pd.read_csv(\"scene_labels.csv\")"
      ]
    },
    {
      "cell_type": "code",
      "execution_count": 36,
      "metadata": {
        "id": "yvIqribfTaS5"
      },
      "outputs": [],
      "source": [
        "def get_model_data(audio_features):\n",
        "    model_data = pd.DataFrame(columns=['audio_feature','sarcasm','sarcasm_type', 'speaker'])\n",
        "    for index, row in labels.iterrows():\n",
        "        audio_key = row[\"SCENE\"] + \"_c.wav\"\n",
        "        model_data = model_data.append({\n",
        "                                    'audio_key' : audio_key,\n",
        "                                    'audio_feature': audio_features[audio_key],\n",
        "                                    'sarcasm' : row[\"Sarcasm\"],\n",
        "                                    'sarcasm_type' : row[\"Sarcasm_Type\"],\n",
        "                                    'speaker' : row[\"SPEAKER\"]},\n",
        "                                  ignore_index=True)\n",
        "    return model_data"
      ]
    },
    {
      "cell_type": "code",
      "execution_count": 37,
      "metadata": {
        "colab": {
          "base_uri": "https://localhost:8080/",
          "height": 424
        },
        "id": "HS9Y9JEoTccI",
        "outputId": "ce41a99e-77a8-4625-84a8-5509509ca182"
      },
      "outputs": [
        {
          "data": {
            "text/html": [
              "\n",
              "  <div id=\"df-c3748080-fdd5-426c-924b-e80fa232e24f\">\n",
              "    <div class=\"colab-df-container\">\n",
              "      <div>\n",
              "<style scoped>\n",
              "    .dataframe tbody tr th:only-of-type {\n",
              "        vertical-align: middle;\n",
              "    }\n",
              "\n",
              "    .dataframe tbody tr th {\n",
              "        vertical-align: top;\n",
              "    }\n",
              "\n",
              "    .dataframe thead th {\n",
              "        text-align: right;\n",
              "    }\n",
              "</style>\n",
              "<table border=\"1\" class=\"dataframe\">\n",
              "  <thead>\n",
              "    <tr style=\"text-align: right;\">\n",
              "      <th></th>\n",
              "      <th>audio_feature</th>\n",
              "      <th>sarcasm</th>\n",
              "      <th>sarcasm_type</th>\n",
              "      <th>speaker</th>\n",
              "      <th>audio_key</th>\n",
              "    </tr>\n",
              "  </thead>\n",
              "  <tbody>\n",
              "    <tr>\n",
              "      <th>0</th>\n",
              "      <td>[[-618.9833984375, -502.91964935302735, -525.1...</td>\n",
              "      <td>0.0</td>\n",
              "      <td>NONE</td>\n",
              "      <td>SHELDON</td>\n",
              "      <td>1_10004_c.wav</td>\n",
              "    </tr>\n",
              "    <tr>\n",
              "      <th>1</th>\n",
              "      <td>[[-593.0794067382812, -393.8955678632182, -359...</td>\n",
              "      <td>0.0</td>\n",
              "      <td>NONE</td>\n",
              "      <td>PENNY</td>\n",
              "      <td>1_10009_c.wav</td>\n",
              "    </tr>\n",
              "    <tr>\n",
              "      <th>2</th>\n",
              "      <td>[[-489.5411376953125, -384.8366248759818, -209...</td>\n",
              "      <td>0.0</td>\n",
              "      <td>NONE</td>\n",
              "      <td>RAJ</td>\n",
              "      <td>1_1001_c.wav</td>\n",
              "    </tr>\n",
              "    <tr>\n",
              "      <th>3</th>\n",
              "      <td>[[-311.09417724609375, -219.8680011995377, -32...</td>\n",
              "      <td>1.0</td>\n",
              "      <td>PRO</td>\n",
              "      <td>HOWARD</td>\n",
              "      <td>1_1003_c.wav</td>\n",
              "    </tr>\n",
              "    <tr>\n",
              "      <th>4</th>\n",
              "      <td>[[-295.9714050292969, -413.38807861328127, -39...</td>\n",
              "      <td>0.0</td>\n",
              "      <td>NONE</td>\n",
              "      <td>SHELDON</td>\n",
              "      <td>1_10190_c.wav</td>\n",
              "    </tr>\n",
              "    <tr>\n",
              "      <th>...</th>\n",
              "      <td>...</td>\n",
              "      <td>...</td>\n",
              "      <td>...</td>\n",
              "      <td>...</td>\n",
              "      <td>...</td>\n",
              "    </tr>\n",
              "    <tr>\n",
              "      <th>1197</th>\n",
              "      <td>[[-675.8568115234375, -532.7791871886322, -525...</td>\n",
              "      <td>0.0</td>\n",
              "      <td>NONE</td>\n",
              "      <td>OTHER</td>\n",
              "      <td>3_S06E02_398_c.wav</td>\n",
              "    </tr>\n",
              "    <tr>\n",
              "      <th>1198</th>\n",
              "      <td>[[-574.171142578125, -402.7659506661551, -394....</td>\n",
              "      <td>1.0</td>\n",
              "      <td>PRO</td>\n",
              "      <td>RICHARD</td>\n",
              "      <td>3_S06E03_366_c.wav</td>\n",
              "    </tr>\n",
              "    <tr>\n",
              "      <th>1199</th>\n",
              "      <td>[[-514.8732299804688, -368.3621577947912, -435...</td>\n",
              "      <td>1.0</td>\n",
              "      <td>PRO</td>\n",
              "      <td>OTHER</td>\n",
              "      <td>3_S06E05_355_c.wav</td>\n",
              "    </tr>\n",
              "    <tr>\n",
              "      <th>1200</th>\n",
              "      <td>[[-578.3153076171875, -459.73959455818965, -43...</td>\n",
              "      <td>1.0</td>\n",
              "      <td>ILL</td>\n",
              "      <td>GILFOYLE</td>\n",
              "      <td>3_S06E06_143_c.wav</td>\n",
              "    </tr>\n",
              "    <tr>\n",
              "      <th>1201</th>\n",
              "      <td>[[-684.563720703125, -440.3018154222138, -541....</td>\n",
              "      <td>1.0</td>\n",
              "      <td>ILL</td>\n",
              "      <td>DINESH</td>\n",
              "      <td>3_S06E07_272_c.wav</td>\n",
              "    </tr>\n",
              "  </tbody>\n",
              "</table>\n",
              "<p>1202 rows × 5 columns</p>\n",
              "</div>\n",
              "      <button class=\"colab-df-convert\" onclick=\"convertToInteractive('df-c3748080-fdd5-426c-924b-e80fa232e24f')\"\n",
              "              title=\"Convert this dataframe to an interactive table.\"\n",
              "              style=\"display:none;\">\n",
              "        \n",
              "  <svg xmlns=\"http://www.w3.org/2000/svg\" height=\"24px\"viewBox=\"0 0 24 24\"\n",
              "       width=\"24px\">\n",
              "    <path d=\"M0 0h24v24H0V0z\" fill=\"none\"/>\n",
              "    <path d=\"M18.56 5.44l.94 2.06.94-2.06 2.06-.94-2.06-.94-.94-2.06-.94 2.06-2.06.94zm-11 1L8.5 8.5l.94-2.06 2.06-.94-2.06-.94L8.5 2.5l-.94 2.06-2.06.94zm10 10l.94 2.06.94-2.06 2.06-.94-2.06-.94-.94-2.06-.94 2.06-2.06.94z\"/><path d=\"M17.41 7.96l-1.37-1.37c-.4-.4-.92-.59-1.43-.59-.52 0-1.04.2-1.43.59L10.3 9.45l-7.72 7.72c-.78.78-.78 2.05 0 2.83L4 21.41c.39.39.9.59 1.41.59.51 0 1.02-.2 1.41-.59l7.78-7.78 2.81-2.81c.8-.78.8-2.07 0-2.86zM5.41 20L4 18.59l7.72-7.72 1.47 1.35L5.41 20z\"/>\n",
              "  </svg>\n",
              "      </button>\n",
              "      \n",
              "  <style>\n",
              "    .colab-df-container {\n",
              "      display:flex;\n",
              "      flex-wrap:wrap;\n",
              "      gap: 12px;\n",
              "    }\n",
              "\n",
              "    .colab-df-convert {\n",
              "      background-color: #E8F0FE;\n",
              "      border: none;\n",
              "      border-radius: 50%;\n",
              "      cursor: pointer;\n",
              "      display: none;\n",
              "      fill: #1967D2;\n",
              "      height: 32px;\n",
              "      padding: 0 0 0 0;\n",
              "      width: 32px;\n",
              "    }\n",
              "\n",
              "    .colab-df-convert:hover {\n",
              "      background-color: #E2EBFA;\n",
              "      box-shadow: 0px 1px 2px rgba(60, 64, 67, 0.3), 0px 1px 3px 1px rgba(60, 64, 67, 0.15);\n",
              "      fill: #174EA6;\n",
              "    }\n",
              "\n",
              "    [theme=dark] .colab-df-convert {\n",
              "      background-color: #3B4455;\n",
              "      fill: #D2E3FC;\n",
              "    }\n",
              "\n",
              "    [theme=dark] .colab-df-convert:hover {\n",
              "      background-color: #434B5C;\n",
              "      box-shadow: 0px 1px 3px 1px rgba(0, 0, 0, 0.15);\n",
              "      filter: drop-shadow(0px 1px 2px rgba(0, 0, 0, 0.3));\n",
              "      fill: #FFFFFF;\n",
              "    }\n",
              "  </style>\n",
              "\n",
              "      <script>\n",
              "        const buttonEl =\n",
              "          document.querySelector('#df-c3748080-fdd5-426c-924b-e80fa232e24f button.colab-df-convert');\n",
              "        buttonEl.style.display =\n",
              "          google.colab.kernel.accessAllowed ? 'block' : 'none';\n",
              "\n",
              "        async function convertToInteractive(key) {\n",
              "          const element = document.querySelector('#df-c3748080-fdd5-426c-924b-e80fa232e24f');\n",
              "          const dataTable =\n",
              "            await google.colab.kernel.invokeFunction('convertToInteractive',\n",
              "                                                     [key], {});\n",
              "          if (!dataTable) return;\n",
              "\n",
              "          const docLinkHtml = 'Like what you see? Visit the ' +\n",
              "            '<a target=\"_blank\" href=https://colab.research.google.com/notebooks/data_table.ipynb>data table notebook</a>'\n",
              "            + ' to learn more about interactive tables.';\n",
              "          element.innerHTML = '';\n",
              "          dataTable['output_type'] = 'display_data';\n",
              "          await google.colab.output.renderOutput(dataTable, element);\n",
              "          const docLink = document.createElement('div');\n",
              "          docLink.innerHTML = docLinkHtml;\n",
              "          element.appendChild(docLink);\n",
              "        }\n",
              "      </script>\n",
              "    </div>\n",
              "  </div>\n",
              "  "
            ],
            "text/plain": [
              "                                          audio_feature  sarcasm sarcasm_type  \\\n",
              "0     [[-618.9833984375, -502.91964935302735, -525.1...      0.0         NONE   \n",
              "1     [[-593.0794067382812, -393.8955678632182, -359...      0.0         NONE   \n",
              "2     [[-489.5411376953125, -384.8366248759818, -209...      0.0         NONE   \n",
              "3     [[-311.09417724609375, -219.8680011995377, -32...      1.0          PRO   \n",
              "4     [[-295.9714050292969, -413.38807861328127, -39...      0.0         NONE   \n",
              "...                                                 ...      ...          ...   \n",
              "1197  [[-675.8568115234375, -532.7791871886322, -525...      0.0         NONE   \n",
              "1198  [[-574.171142578125, -402.7659506661551, -394....      1.0          PRO   \n",
              "1199  [[-514.8732299804688, -368.3621577947912, -435...      1.0          PRO   \n",
              "1200  [[-578.3153076171875, -459.73959455818965, -43...      1.0          ILL   \n",
              "1201  [[-684.563720703125, -440.3018154222138, -541....      1.0          ILL   \n",
              "\n",
              "       speaker           audio_key  \n",
              "0      SHELDON       1_10004_c.wav  \n",
              "1        PENNY       1_10009_c.wav  \n",
              "2          RAJ        1_1001_c.wav  \n",
              "3       HOWARD        1_1003_c.wav  \n",
              "4      SHELDON       1_10190_c.wav  \n",
              "...        ...                 ...  \n",
              "1197     OTHER  3_S06E02_398_c.wav  \n",
              "1198   RICHARD  3_S06E03_366_c.wav  \n",
              "1199     OTHER  3_S06E05_355_c.wav  \n",
              "1200  GILFOYLE  3_S06E06_143_c.wav  \n",
              "1201    DINESH  3_S06E07_272_c.wav  \n",
              "\n",
              "[1202 rows x 5 columns]"
            ]
          },
          "execution_count": 37,
          "metadata": {},
          "output_type": "execute_result"
        }
      ],
      "source": [
        "data = get_model_data(librosa_audio_features)\n",
        "data"
      ]
    },
    {
      "cell_type": "code",
      "execution_count": 38,
      "metadata": {
        "id": "4XR4bzumTfH_"
      },
      "outputs": [],
      "source": [
        "model = hub.load('https://tfhub.dev/google/trillsson3/1')"
      ]
    },
    {
      "cell_type": "code",
      "execution_count": 39,
      "metadata": {
        "id": "KoeHEKm1TmES"
      },
      "outputs": [],
      "source": [
        "data['averaged_audio_feature'] = data.loc[:, 'audio_feature']\n",
        "for index, row in data.iterrows():\n",
        "    audio = row['averaged_audio_feature']\n",
        "    data.at[index, \"averaged_audio_feature\"] = np.squeeze(np.array([np.mean(audio, axis=1)]))"
      ]
    },
    {
      "cell_type": "code",
      "execution_count": 40,
      "metadata": {
        "id": "wTdXRRcoW3c3"
      },
      "outputs": [],
      "source": [
        "values = data['averaged_audio_feature'].to_list()"
      ]
    },
    {
      "cell_type": "code",
      "execution_count": 41,
      "metadata": {
        "colab": {
          "base_uri": "https://localhost:8080/"
        },
        "id": "H-bV4fe-WOG_",
        "outputId": "bc2f84f6-68d6-4e0a-9920-077c5c01fb15"
      },
      "outputs": [
        {
          "name": "stdout",
          "output_type": "stream",
          "text": [
            "<class 'tensorflow.python.framework.ops.EagerTensor'>\n"
          ]
        }
      ],
      "source": [
        "tensors = tf.constant(values)\n",
        "print(type(tensors))"
      ]
    },
    {
      "cell_type": "code",
      "execution_count": 42,
      "metadata": {
        "id": "deoOtiyxYKlg"
      },
      "outputs": [],
      "source": [
        "tensors = tf.cast(tensors, tf.dtypes.float32)"
      ]
    },
    {
      "cell_type": "code",
      "execution_count": 43,
      "metadata": {
        "colab": {
          "base_uri": "https://localhost:8080/"
        },
        "id": "5La8DgKeaZyq",
        "outputId": "b9723e8b-dc50-415e-b26b-d67cbd943a0f"
      },
      "outputs": [
        {
          "data": {
            "text/plain": [
              "TensorShape([1202, 690])"
            ]
          },
          "execution_count": 43,
          "metadata": {},
          "output_type": "execute_result"
        }
      ],
      "source": [
        "tensors.shape"
      ]
    },
    {
      "cell_type": "code",
      "execution_count": 44,
      "metadata": {
        "id": "GycK0hNmVBBW"
      },
      "outputs": [],
      "source": [
        "embeddings = model(tensors)"
      ]
    },
    {
      "cell_type": "code",
      "execution_count": 45,
      "metadata": {
        "colab": {
          "base_uri": "https://localhost:8080/"
        },
        "id": "EisSW3aScKfj",
        "outputId": "072593e3-33df-4af8-fbb4-acfa0104d0be"
      },
      "outputs": [
        {
          "data": {
            "text/plain": [
              "TensorShape([1202, 1024])"
            ]
          },
          "execution_count": 45,
          "metadata": {},
          "output_type": "execute_result"
        }
      ],
      "source": [
        "embeddings[\"embedding\"].shape"
      ]
    },
    {
      "cell_type": "code",
      "execution_count": 46,
      "metadata": {
        "colab": {
          "base_uri": "https://localhost:8080/"
        },
        "id": "RihYz_H8gABf",
        "outputId": "473be140-48fb-41d8-ebe3-489cc3f37eea"
      },
      "outputs": [
        {
          "data": {
            "text/plain": [
              "<tf.Tensor: shape=(1024,), dtype=float32, numpy=\n",
              "array([-1.3758289 , -0.44799396, -1.1103612 , ...,  3.6759279 ,\n",
              "        0.3203821 , -2.668886  ], dtype=float32)>"
            ]
          },
          "execution_count": 46,
          "metadata": {},
          "output_type": "execute_result"
        }
      ],
      "source": [
        "embeddings[\"embedding\"][0]"
      ]
    },
    {
      "cell_type": "code",
      "execution_count": 47,
      "metadata": {
        "colab": {
          "base_uri": "https://localhost:8080/"
        },
        "id": "9UYsLOmCgEAZ",
        "outputId": "5b1e4b99-f74f-4782-d91b-fc3f120d1533"
      },
      "outputs": [
        {
          "data": {
            "text/plain": [
              "1202"
            ]
          },
          "execution_count": 47,
          "metadata": {},
          "output_type": "execute_result"
        }
      ],
      "source": [
        "len(data)"
      ]
    },
    {
      "cell_type": "code",
      "execution_count": 48,
      "metadata": {
        "id": "emk5Jfz3XgXr"
      },
      "outputs": [],
      "source": [
        "import pickle\n",
        "trillfeat = {}\n",
        "i = 0\n",
        "for index, row in data.iterrows():\n",
        "    trillfeat[row['audio_key']] = embeddings[\"embedding\"][i].numpy()\n",
        "    i = i + 1\n",
        "\n",
        "with open('trill_context_features.pickle', 'wb') as handle:\n",
        "    pickle.dump(trillfeat, handle, protocol=pickle.HIGHEST_PROTOCOL)"
      ]
    }
  ],
  "metadata": {
    "colab": {
      "provenance": []
    },
    "kernelspec": {
      "display_name": "Python 3",
      "name": "python3"
    },
    "language_info": {
      "name": "python"
    }
  },
  "nbformat": 4,
  "nbformat_minor": 0
}
