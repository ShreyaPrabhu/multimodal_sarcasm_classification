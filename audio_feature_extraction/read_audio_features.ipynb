{
 "cells": [
  {
   "cell_type": "markdown",
   "id": "0173b3b8",
   "metadata": {},
   "source": [
    "# Read features to check if they are created for 690 videos"
   ]
  },
  {
   "cell_type": "code",
   "execution_count": 1,
   "id": "9bf19359",
   "metadata": {},
   "outputs": [],
   "source": [
    "import pickle\n",
    "with open('feat_dict_librosa_lld.pickle', 'rb') as f:\n",
    "    x = pickle.load(f, encoding='latin1')"
   ]
  },
  {
   "cell_type": "code",
   "execution_count": 2,
   "id": "58afaadb",
   "metadata": {},
   "outputs": [
    {
     "name": "stdout",
     "output_type": "stream",
     "text": [
      "1202\n"
     ]
    }
   ],
   "source": [
    "print(len(x))"
   ]
  },
  {
   "cell_type": "code",
   "execution_count": 3,
   "id": "0a88b257",
   "metadata": {},
   "outputs": [
    {
     "name": "stdout",
     "output_type": "stream",
     "text": [
      "[[-6.75535400e+02 -6.19361633e+02 -5.83733398e+02 ... -6.01568237e+02\n",
      "  -5.85181458e+02 -5.76063477e+02]\n",
      " [ 4.17907066e+01  5.98002472e+01  6.84948730e+01 ...  1.20720245e+02\n",
      "   1.32874481e+02  1.33002258e+02]\n",
      " [-2.49464684e+01 -4.35802040e+01 -5.01337891e+01 ... -3.13644242e+00\n",
      "   4.27976799e+00  6.00213909e+00]\n",
      " ...\n",
      " [ 4.85453370e-07  4.85453370e-07  4.85453370e-07 ... -2.52916891e-07\n",
      "  -2.52916891e-07 -2.52916891e-07]\n",
      " [ 1.23473581e-06  1.23473581e-06  1.23473581e-06 ... -7.07499836e-08\n",
      "  -7.07499836e-08 -7.07499836e-08]\n",
      " [ 2.29758501e+03  2.33967206e+03  2.35985417e+03 ...  2.08420889e+03\n",
      "   2.10006433e+03  1.95630094e+03]]\n"
     ]
    }
   ],
   "source": [
    "print(x['2_151_u.wav'])"
   ]
  },
  {
   "cell_type": "code",
   "execution_count": 4,
   "id": "2afb4cb5",
   "metadata": {},
   "outputs": [
    {
     "name": "stdout",
     "output_type": "stream",
     "text": [
      "(236830, 26)\n",
      "Index(['Unnamed: 0', 'Loudness_sma3', 'alphaRatio_sma3',\n",
      "       'hammarbergIndex_sma3', 'slope0-500_sma3', 'slope500-1500_sma3',\n",
      "       'spectralFlux_sma3', 'mfcc1_sma3', 'mfcc2_sma3', 'mfcc3_sma3',\n",
      "       'mfcc4_sma3', 'F0semitoneFrom27.5Hz_sma3nz', 'jitterLocal_sma3nz',\n",
      "       'shimmerLocaldB_sma3nz', 'HNRdBACF_sma3nz', 'logRelF0-H1-H2_sma3nz',\n",
      "       'logRelF0-H1-A3_sma3nz', 'F1frequency_sma3nz', 'F1bandwidth_sma3nz',\n",
      "       'F1amplitudeLogRelF0_sma3nz', 'F2frequency_sma3nz',\n",
      "       'F2bandwidth_sma3nz', 'F2amplitudeLogRelF0_sma3nz',\n",
      "       'F3frequency_sma3nz', 'F3bandwidth_sma3nz',\n",
      "       'F3amplitudeLogRelF0_sma3nz'],\n",
      "      dtype='object')\n"
     ]
    },
    {
     "data": {
      "text/html": [
       "<div>\n",
       "<style scoped>\n",
       "    .dataframe tbody tr th:only-of-type {\n",
       "        vertical-align: middle;\n",
       "    }\n",
       "\n",
       "    .dataframe tbody tr th {\n",
       "        vertical-align: top;\n",
       "    }\n",
       "\n",
       "    .dataframe thead th {\n",
       "        text-align: right;\n",
       "    }\n",
       "</style>\n",
       "<table border=\"1\" class=\"dataframe\">\n",
       "  <thead>\n",
       "    <tr style=\"text-align: right;\">\n",
       "      <th></th>\n",
       "      <th>Unnamed: 0</th>\n",
       "      <th>Loudness_sma3</th>\n",
       "      <th>alphaRatio_sma3</th>\n",
       "      <th>hammarbergIndex_sma3</th>\n",
       "      <th>slope0-500_sma3</th>\n",
       "      <th>slope500-1500_sma3</th>\n",
       "      <th>spectralFlux_sma3</th>\n",
       "      <th>mfcc1_sma3</th>\n",
       "      <th>mfcc2_sma3</th>\n",
       "      <th>mfcc3_sma3</th>\n",
       "      <th>...</th>\n",
       "      <th>logRelF0-H1-A3_sma3nz</th>\n",
       "      <th>F1frequency_sma3nz</th>\n",
       "      <th>F1bandwidth_sma3nz</th>\n",
       "      <th>F1amplitudeLogRelF0_sma3nz</th>\n",
       "      <th>F2frequency_sma3nz</th>\n",
       "      <th>F2bandwidth_sma3nz</th>\n",
       "      <th>F2amplitudeLogRelF0_sma3nz</th>\n",
       "      <th>F3frequency_sma3nz</th>\n",
       "      <th>F3bandwidth_sma3nz</th>\n",
       "      <th>F3amplitudeLogRelF0_sma3nz</th>\n",
       "    </tr>\n",
       "  </thead>\n",
       "  <tbody>\n",
       "    <tr>\n",
       "      <th>0</th>\n",
       "      <td>('../data/audios/final_utterance_videos_bgr_wa...</td>\n",
       "      <td>0.329378</td>\n",
       "      <td>13.100731</td>\n",
       "      <td>-14.768949</td>\n",
       "      <td>-0.011762</td>\n",
       "      <td>-0.003958</td>\n",
       "      <td>0.008559</td>\n",
       "      <td>4.792507</td>\n",
       "      <td>-24.291124</td>\n",
       "      <td>-2.289610</td>\n",
       "      <td>...</td>\n",
       "      <td>0.000000</td>\n",
       "      <td>1108.69730</td>\n",
       "      <td>923.25507</td>\n",
       "      <td>-135.7182</td>\n",
       "      <td>2021.9450</td>\n",
       "      <td>1155.0397</td>\n",
       "      <td>-125.75973</td>\n",
       "      <td>3112.6670</td>\n",
       "      <td>1728.3672</td>\n",
       "      <td>-136.12373</td>\n",
       "    </tr>\n",
       "    <tr>\n",
       "      <th>1</th>\n",
       "      <td>('../data/audios/final_utterance_videos_bgr_wa...</td>\n",
       "      <td>0.353582</td>\n",
       "      <td>10.911281</td>\n",
       "      <td>-13.374336</td>\n",
       "      <td>-0.011472</td>\n",
       "      <td>-0.005884</td>\n",
       "      <td>0.021455</td>\n",
       "      <td>2.571814</td>\n",
       "      <td>-20.509500</td>\n",
       "      <td>-9.213588</td>\n",
       "      <td>...</td>\n",
       "      <td>10.412254</td>\n",
       "      <td>986.25180</td>\n",
       "      <td>1093.25230</td>\n",
       "      <td>-135.7182</td>\n",
       "      <td>1935.1302</td>\n",
       "      <td>1094.4795</td>\n",
       "      <td>-125.75973</td>\n",
       "      <td>2917.9414</td>\n",
       "      <td>1532.8224</td>\n",
       "      <td>-136.12373</td>\n",
       "    </tr>\n",
       "    <tr>\n",
       "      <th>2</th>\n",
       "      <td>('../data/audios/final_utterance_videos_bgr_wa...</td>\n",
       "      <td>0.367680</td>\n",
       "      <td>5.679028</td>\n",
       "      <td>-7.716195</td>\n",
       "      <td>-0.006611</td>\n",
       "      <td>-0.007130</td>\n",
       "      <td>0.034709</td>\n",
       "      <td>1.559291</td>\n",
       "      <td>-14.765420</td>\n",
       "      <td>-18.108824</td>\n",
       "      <td>...</td>\n",
       "      <td>0.000000</td>\n",
       "      <td>735.89404</td>\n",
       "      <td>1377.75240</td>\n",
       "      <td>-135.7182</td>\n",
       "      <td>1662.2408</td>\n",
       "      <td>1204.3885</td>\n",
       "      <td>-125.75973</td>\n",
       "      <td>2521.0276</td>\n",
       "      <td>1407.7715</td>\n",
       "      <td>-136.12373</td>\n",
       "    </tr>\n",
       "    <tr>\n",
       "      <th>3</th>\n",
       "      <td>('../data/audios/final_utterance_videos_bgr_wa...</td>\n",
       "      <td>0.366248</td>\n",
       "      <td>0.401306</td>\n",
       "      <td>1.455578</td>\n",
       "      <td>0.006426</td>\n",
       "      <td>-0.011113</td>\n",
       "      <td>0.034706</td>\n",
       "      <td>3.382826</td>\n",
       "      <td>-13.076314</td>\n",
       "      <td>-20.313340</td>\n",
       "      <td>...</td>\n",
       "      <td>0.000000</td>\n",
       "      <td>681.73236</td>\n",
       "      <td>1293.14610</td>\n",
       "      <td>-201.0000</td>\n",
       "      <td>1584.2334</td>\n",
       "      <td>1075.1193</td>\n",
       "      <td>-201.00000</td>\n",
       "      <td>2410.9902</td>\n",
       "      <td>881.1254</td>\n",
       "      <td>-201.00000</td>\n",
       "    </tr>\n",
       "    <tr>\n",
       "      <th>4</th>\n",
       "      <td>('../data/audios/final_utterance_videos_bgr_wa...</td>\n",
       "      <td>0.393016</td>\n",
       "      <td>-2.376870</td>\n",
       "      <td>5.893542</td>\n",
       "      <td>0.020723</td>\n",
       "      <td>-0.012667</td>\n",
       "      <td>0.036981</td>\n",
       "      <td>7.035270</td>\n",
       "      <td>-13.341207</td>\n",
       "      <td>-10.889896</td>\n",
       "      <td>...</td>\n",
       "      <td>0.000000</td>\n",
       "      <td>829.69330</td>\n",
       "      <td>1736.55990</td>\n",
       "      <td>-201.0000</td>\n",
       "      <td>1478.7448</td>\n",
       "      <td>1199.3558</td>\n",
       "      <td>-201.00000</td>\n",
       "      <td>2371.5208</td>\n",
       "      <td>944.1782</td>\n",
       "      <td>-201.00000</td>\n",
       "    </tr>\n",
       "  </tbody>\n",
       "</table>\n",
       "<p>5 rows × 26 columns</p>\n",
       "</div>"
      ],
      "text/plain": [
       "                                          Unnamed: 0  Loudness_sma3  \\\n",
       "0  ('../data/audios/final_utterance_videos_bgr_wa...       0.329378   \n",
       "1  ('../data/audios/final_utterance_videos_bgr_wa...       0.353582   \n",
       "2  ('../data/audios/final_utterance_videos_bgr_wa...       0.367680   \n",
       "3  ('../data/audios/final_utterance_videos_bgr_wa...       0.366248   \n",
       "4  ('../data/audios/final_utterance_videos_bgr_wa...       0.393016   \n",
       "\n",
       "   alphaRatio_sma3  hammarbergIndex_sma3  slope0-500_sma3  slope500-1500_sma3  \\\n",
       "0        13.100731            -14.768949        -0.011762           -0.003958   \n",
       "1        10.911281            -13.374336        -0.011472           -0.005884   \n",
       "2         5.679028             -7.716195        -0.006611           -0.007130   \n",
       "3         0.401306              1.455578         0.006426           -0.011113   \n",
       "4        -2.376870              5.893542         0.020723           -0.012667   \n",
       "\n",
       "   spectralFlux_sma3  mfcc1_sma3  mfcc2_sma3  mfcc3_sma3  ...  \\\n",
       "0           0.008559    4.792507  -24.291124   -2.289610  ...   \n",
       "1           0.021455    2.571814  -20.509500   -9.213588  ...   \n",
       "2           0.034709    1.559291  -14.765420  -18.108824  ...   \n",
       "3           0.034706    3.382826  -13.076314  -20.313340  ...   \n",
       "4           0.036981    7.035270  -13.341207  -10.889896  ...   \n",
       "\n",
       "   logRelF0-H1-A3_sma3nz  F1frequency_sma3nz  F1bandwidth_sma3nz  \\\n",
       "0               0.000000          1108.69730           923.25507   \n",
       "1              10.412254           986.25180          1093.25230   \n",
       "2               0.000000           735.89404          1377.75240   \n",
       "3               0.000000           681.73236          1293.14610   \n",
       "4               0.000000           829.69330          1736.55990   \n",
       "\n",
       "   F1amplitudeLogRelF0_sma3nz  F2frequency_sma3nz  F2bandwidth_sma3nz  \\\n",
       "0                   -135.7182           2021.9450           1155.0397   \n",
       "1                   -135.7182           1935.1302           1094.4795   \n",
       "2                   -135.7182           1662.2408           1204.3885   \n",
       "3                   -201.0000           1584.2334           1075.1193   \n",
       "4                   -201.0000           1478.7448           1199.3558   \n",
       "\n",
       "   F2amplitudeLogRelF0_sma3nz  F3frequency_sma3nz  F3bandwidth_sma3nz  \\\n",
       "0                  -125.75973           3112.6670           1728.3672   \n",
       "1                  -125.75973           2917.9414           1532.8224   \n",
       "2                  -125.75973           2521.0276           1407.7715   \n",
       "3                  -201.00000           2410.9902            881.1254   \n",
       "4                  -201.00000           2371.5208            944.1782   \n",
       "\n",
       "   F3amplitudeLogRelF0_sma3nz  \n",
       "0                  -136.12373  \n",
       "1                  -136.12373  \n",
       "2                  -136.12373  \n",
       "3                  -201.00000  \n",
       "4                  -201.00000  \n",
       "\n",
       "[5 rows x 26 columns]"
      ]
     },
     "execution_count": 4,
     "metadata": {},
     "output_type": "execute_result"
    }
   ],
   "source": [
    "import csv\n",
    "import pandas as pd\n",
    "\n",
    "df = pd.read_csv('framewise_feat_opensmile_lld.csv')  \n",
    "print(df.shape)\n",
    "print(df.columns)\n",
    "\n",
    "df.head()"
   ]
  },
  {
   "cell_type": "code",
   "execution_count": 5,
   "id": "e49ef06a",
   "metadata": {},
   "outputs": [],
   "source": [
    "with open('feat_dict_opensmile_lld.pickle', 'rb') as f:\n",
    "    x = pickle.load(f, encoding='latin1')"
   ]
  },
  {
   "cell_type": "code",
   "execution_count": 6,
   "id": "2f503ea3",
   "metadata": {},
   "outputs": [
    {
     "name": "stdout",
     "output_type": "stream",
     "text": [
      "1202\n"
     ]
    }
   ],
   "source": [
    "print(len(x))"
   ]
  },
  {
   "cell_type": "code",
   "execution_count": 7,
   "id": "32ae17db",
   "metadata": {},
   "outputs": [
    {
     "name": "stdout",
     "output_type": "stream",
     "text": [
      "[[ 3.2937801e-01  3.5358170e-01  3.6768040e-01 ...  3.3999288e-01\n",
      "   3.6187553e-01  3.6871555e-01]\n",
      " [ 1.3100731e+01  1.0911281e+01  5.6790276e+00 ... -6.3569160e+00\n",
      "  -5.5903625e+00 -5.4686227e+00]\n",
      " [-1.4768949e+01 -1.3374336e+01 -7.7161946e+00 ...  3.0953238e+01\n",
      "   3.6347260e+01  4.0001568e+01]\n",
      " ...\n",
      " [ 3.1126670e+03  2.9179414e+03  2.5210276e+03 ...  2.4314995e+03\n",
      "   2.3712749e+03  2.3985891e+03]\n",
      " [ 1.7283672e+03  1.5328224e+03  1.4077715e+03 ...  6.4902368e+02\n",
      "   6.2524536e+02  8.5327716e+02]\n",
      " [-1.3612373e+02 -1.3612373e+02 -1.3612373e+02 ... -1.5764102e+01\n",
      "  -1.6074574e+01 -2.1198057e+01]]\n"
     ]
    }
   ],
   "source": [
    "print(x['2_151_u.wav'])"
   ]
  }
 ],
 "metadata": {
  "kernelspec": {
   "display_name": "Python 3 (ipykernel)",
   "language": "python",
   "name": "python3"
  },
  "language_info": {
   "codemirror_mode": {
    "name": "ipython",
    "version": 3
   },
   "file_extension": ".py",
   "mimetype": "text/x-python",
   "name": "python",
   "nbconvert_exporter": "python",
   "pygments_lexer": "ipython3",
   "version": "3.9.7"
  }
 },
 "nbformat": 4,
 "nbformat_minor": 5
}
