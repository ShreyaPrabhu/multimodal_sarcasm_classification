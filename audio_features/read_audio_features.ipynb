{
 "cells": [
  {
   "cell_type": "markdown",
   "id": "0173b3b8",
   "metadata": {},
   "source": [
    "# Read features to check if they are created for 690 videos"
   ]
  },
  {
   "cell_type": "code",
   "execution_count": 1,
   "id": "9bf19359",
   "metadata": {},
   "outputs": [],
   "source": [
    "import pickle\n",
    "with open('feat_dict_librosa_lld.pickle', 'rb') as f:\n",
    "    x = pickle.load(f, encoding='latin1')"
   ]
  },
  {
   "cell_type": "code",
   "execution_count": 2,
   "id": "58afaadb",
   "metadata": {},
   "outputs": [
    {
     "name": "stdout",
     "output_type": "stream",
     "text": [
      "690\n"
     ]
    }
   ],
   "source": [
    "print(len(x))"
   ]
  },
  {
   "cell_type": "code",
   "execution_count": 3,
   "id": "0a88b257",
   "metadata": {},
   "outputs": [
    {
     "name": "stdout",
     "output_type": "stream",
     "text": [
      "[[-5.60188965e+02 -5.68476196e+02 -5.81159485e+02 ... -6.08743591e+02\n",
      "  -6.18300720e+02 -6.32535034e+02]\n",
      " [ 4.46714706e+01  2.68842983e+01  2.45193806e+01 ...  1.77060375e+01\n",
      "   9.94435120e+00  5.35045624e+00]\n",
      " [-2.81044140e+01 -3.71872673e+01 -3.66758347e+01 ... -1.51777191e+01\n",
      "  -1.26916580e+01 -5.53006363e+00]\n",
      " ...\n",
      " [-1.36468810e-08 -1.36468810e-08 -1.36468810e-08 ... -2.32498962e-08\n",
      "  -2.32498962e-08 -2.32498962e-08]\n",
      " [ 9.66007541e-09  9.66007541e-09  9.66007541e-09 ... -3.02358139e-08\n",
      "  -3.02358139e-08 -3.02358139e-08]\n",
      " [ 1.94164764e+03  1.88857099e+03  1.77991594e+03 ...  1.66828797e+03\n",
      "   1.71183551e+03  1.74852103e+03]]\n"
     ]
    }
   ],
   "source": [
    "print(x['1_11201.wav'])"
   ]
  },
  {
   "cell_type": "code",
   "execution_count": 4,
   "id": "2afb4cb5",
   "metadata": {},
   "outputs": [
    {
     "name": "stdout",
     "output_type": "stream",
     "text": [
      "(154622, 26)\n",
      "Index(['Unnamed: 0', 'Loudness_sma3', 'alphaRatio_sma3',\n",
      "       'hammarbergIndex_sma3', 'slope0-500_sma3', 'slope500-1500_sma3',\n",
      "       'spectralFlux_sma3', 'mfcc1_sma3', 'mfcc2_sma3', 'mfcc3_sma3',\n",
      "       'mfcc4_sma3', 'F0semitoneFrom27.5Hz_sma3nz', 'jitterLocal_sma3nz',\n",
      "       'shimmerLocaldB_sma3nz', 'HNRdBACF_sma3nz', 'logRelF0-H1-H2_sma3nz',\n",
      "       'logRelF0-H1-A3_sma3nz', 'F1frequency_sma3nz', 'F1bandwidth_sma3nz',\n",
      "       'F1amplitudeLogRelF0_sma3nz', 'F2frequency_sma3nz',\n",
      "       'F2bandwidth_sma3nz', 'F2amplitudeLogRelF0_sma3nz',\n",
      "       'F3frequency_sma3nz', 'F3bandwidth_sma3nz',\n",
      "       'F3amplitudeLogRelF0_sma3nz'],\n",
      "      dtype='object')\n"
     ]
    },
    {
     "data": {
      "text/html": [
       "<div>\n",
       "<style scoped>\n",
       "    .dataframe tbody tr th:only-of-type {\n",
       "        vertical-align: middle;\n",
       "    }\n",
       "\n",
       "    .dataframe tbody tr th {\n",
       "        vertical-align: top;\n",
       "    }\n",
       "\n",
       "    .dataframe thead th {\n",
       "        text-align: right;\n",
       "    }\n",
       "</style>\n",
       "<table border=\"1\" class=\"dataframe\">\n",
       "  <thead>\n",
       "    <tr style=\"text-align: right;\">\n",
       "      <th></th>\n",
       "      <th>Unnamed: 0</th>\n",
       "      <th>Loudness_sma3</th>\n",
       "      <th>alphaRatio_sma3</th>\n",
       "      <th>hammarbergIndex_sma3</th>\n",
       "      <th>slope0-500_sma3</th>\n",
       "      <th>slope500-1500_sma3</th>\n",
       "      <th>spectralFlux_sma3</th>\n",
       "      <th>mfcc1_sma3</th>\n",
       "      <th>mfcc2_sma3</th>\n",
       "      <th>mfcc3_sma3</th>\n",
       "      <th>...</th>\n",
       "      <th>logRelF0-H1-A3_sma3nz</th>\n",
       "      <th>F1frequency_sma3nz</th>\n",
       "      <th>F1bandwidth_sma3nz</th>\n",
       "      <th>F1amplitudeLogRelF0_sma3nz</th>\n",
       "      <th>F2frequency_sma3nz</th>\n",
       "      <th>F2bandwidth_sma3nz</th>\n",
       "      <th>F2amplitudeLogRelF0_sma3nz</th>\n",
       "      <th>F3frequency_sma3nz</th>\n",
       "      <th>F3bandwidth_sma3nz</th>\n",
       "      <th>F3amplitudeLogRelF0_sma3nz</th>\n",
       "    </tr>\n",
       "  </thead>\n",
       "  <tbody>\n",
       "    <tr>\n",
       "      <th>0</th>\n",
       "      <td>('../data/audios/utterances_final_bgr_wav/1_11...</td>\n",
       "      <td>0.260885</td>\n",
       "      <td>10.362269</td>\n",
       "      <td>16.277252</td>\n",
       "      <td>0.028397</td>\n",
       "      <td>0.018935</td>\n",
       "      <td>0.013331</td>\n",
       "      <td>0.359227</td>\n",
       "      <td>-41.591732</td>\n",
       "      <td>-27.749466</td>\n",
       "      <td>...</td>\n",
       "      <td>-9.928174</td>\n",
       "      <td>732.98975</td>\n",
       "      <td>1756.7125</td>\n",
       "      <td>0.0</td>\n",
       "      <td>1515.9795</td>\n",
       "      <td>1145.7611</td>\n",
       "      <td>-70.70191</td>\n",
       "      <td>2526.2317</td>\n",
       "      <td>3351.12180</td>\n",
       "      <td>-76.35905</td>\n",
       "    </tr>\n",
       "    <tr>\n",
       "      <th>1</th>\n",
       "      <td>('../data/audios/utterances_final_bgr_wav/1_11...</td>\n",
       "      <td>0.248374</td>\n",
       "      <td>10.486054</td>\n",
       "      <td>16.002893</td>\n",
       "      <td>0.025219</td>\n",
       "      <td>0.017933</td>\n",
       "      <td>0.018868</td>\n",
       "      <td>1.722942</td>\n",
       "      <td>-44.148570</td>\n",
       "      <td>-17.170208</td>\n",
       "      <td>...</td>\n",
       "      <td>0.000000</td>\n",
       "      <td>960.13470</td>\n",
       "      <td>1679.4858</td>\n",
       "      <td>-201.0</td>\n",
       "      <td>1630.4476</td>\n",
       "      <td>1325.6005</td>\n",
       "      <td>-135.85095</td>\n",
       "      <td>2574.9407</td>\n",
       "      <td>2135.31620</td>\n",
       "      <td>-138.67952</td>\n",
       "    </tr>\n",
       "    <tr>\n",
       "      <th>2</th>\n",
       "      <td>('../data/audios/utterances_final_bgr_wav/1_11...</td>\n",
       "      <td>0.233863</td>\n",
       "      <td>10.455749</td>\n",
       "      <td>15.329560</td>\n",
       "      <td>0.018282</td>\n",
       "      <td>0.016415</td>\n",
       "      <td>0.023725</td>\n",
       "      <td>4.277610</td>\n",
       "      <td>-42.752594</td>\n",
       "      <td>-2.619162</td>\n",
       "      <td>...</td>\n",
       "      <td>0.000000</td>\n",
       "      <td>1103.87840</td>\n",
       "      <td>1658.2056</td>\n",
       "      <td>-201.0</td>\n",
       "      <td>1682.8431</td>\n",
       "      <td>1293.4349</td>\n",
       "      <td>-201.00000</td>\n",
       "      <td>2630.8977</td>\n",
       "      <td>838.61760</td>\n",
       "      <td>-201.00000</td>\n",
       "    </tr>\n",
       "    <tr>\n",
       "      <th>3</th>\n",
       "      <td>('../data/audios/utterances_final_bgr_wav/1_11...</td>\n",
       "      <td>0.234149</td>\n",
       "      <td>8.194819</td>\n",
       "      <td>15.032422</td>\n",
       "      <td>0.016092</td>\n",
       "      <td>0.016368</td>\n",
       "      <td>0.018869</td>\n",
       "      <td>8.422653</td>\n",
       "      <td>-36.106370</td>\n",
       "      <td>9.670789</td>\n",
       "      <td>...</td>\n",
       "      <td>0.000000</td>\n",
       "      <td>1000.09985</td>\n",
       "      <td>1055.9554</td>\n",
       "      <td>-201.0</td>\n",
       "      <td>1801.5814</td>\n",
       "      <td>1206.9933</td>\n",
       "      <td>-201.00000</td>\n",
       "      <td>2672.6710</td>\n",
       "      <td>795.86500</td>\n",
       "      <td>-201.00000</td>\n",
       "    </tr>\n",
       "    <tr>\n",
       "      <th>4</th>\n",
       "      <td>('../data/audios/utterances_final_bgr_wav/1_11...</td>\n",
       "      <td>0.258797</td>\n",
       "      <td>3.340501</td>\n",
       "      <td>13.411984</td>\n",
       "      <td>0.025893</td>\n",
       "      <td>0.018782</td>\n",
       "      <td>0.024374</td>\n",
       "      <td>14.204323</td>\n",
       "      <td>-32.760315</td>\n",
       "      <td>15.152701</td>\n",
       "      <td>...</td>\n",
       "      <td>0.000000</td>\n",
       "      <td>914.97980</td>\n",
       "      <td>1092.9606</td>\n",
       "      <td>-201.0</td>\n",
       "      <td>1731.7046</td>\n",
       "      <td>956.9268</td>\n",
       "      <td>-201.00000</td>\n",
       "      <td>2657.6470</td>\n",
       "      <td>690.74756</td>\n",
       "      <td>-201.00000</td>\n",
       "    </tr>\n",
       "  </tbody>\n",
       "</table>\n",
       "<p>5 rows × 26 columns</p>\n",
       "</div>"
      ],
      "text/plain": [
       "                                          Unnamed: 0  Loudness_sma3  \\\n",
       "0  ('../data/audios/utterances_final_bgr_wav/1_11...       0.260885   \n",
       "1  ('../data/audios/utterances_final_bgr_wav/1_11...       0.248374   \n",
       "2  ('../data/audios/utterances_final_bgr_wav/1_11...       0.233863   \n",
       "3  ('../data/audios/utterances_final_bgr_wav/1_11...       0.234149   \n",
       "4  ('../data/audios/utterances_final_bgr_wav/1_11...       0.258797   \n",
       "\n",
       "   alphaRatio_sma3  hammarbergIndex_sma3  slope0-500_sma3  slope500-1500_sma3  \\\n",
       "0        10.362269             16.277252         0.028397            0.018935   \n",
       "1        10.486054             16.002893         0.025219            0.017933   \n",
       "2        10.455749             15.329560         0.018282            0.016415   \n",
       "3         8.194819             15.032422         0.016092            0.016368   \n",
       "4         3.340501             13.411984         0.025893            0.018782   \n",
       "\n",
       "   spectralFlux_sma3  mfcc1_sma3  mfcc2_sma3  mfcc3_sma3  ...  \\\n",
       "0           0.013331    0.359227  -41.591732  -27.749466  ...   \n",
       "1           0.018868    1.722942  -44.148570  -17.170208  ...   \n",
       "2           0.023725    4.277610  -42.752594   -2.619162  ...   \n",
       "3           0.018869    8.422653  -36.106370    9.670789  ...   \n",
       "4           0.024374   14.204323  -32.760315   15.152701  ...   \n",
       "\n",
       "   logRelF0-H1-A3_sma3nz  F1frequency_sma3nz  F1bandwidth_sma3nz  \\\n",
       "0              -9.928174           732.98975           1756.7125   \n",
       "1               0.000000           960.13470           1679.4858   \n",
       "2               0.000000          1103.87840           1658.2056   \n",
       "3               0.000000          1000.09985           1055.9554   \n",
       "4               0.000000           914.97980           1092.9606   \n",
       "\n",
       "   F1amplitudeLogRelF0_sma3nz  F2frequency_sma3nz  F2bandwidth_sma3nz  \\\n",
       "0                         0.0           1515.9795           1145.7611   \n",
       "1                      -201.0           1630.4476           1325.6005   \n",
       "2                      -201.0           1682.8431           1293.4349   \n",
       "3                      -201.0           1801.5814           1206.9933   \n",
       "4                      -201.0           1731.7046            956.9268   \n",
       "\n",
       "   F2amplitudeLogRelF0_sma3nz  F3frequency_sma3nz  F3bandwidth_sma3nz  \\\n",
       "0                   -70.70191           2526.2317          3351.12180   \n",
       "1                  -135.85095           2574.9407          2135.31620   \n",
       "2                  -201.00000           2630.8977           838.61760   \n",
       "3                  -201.00000           2672.6710           795.86500   \n",
       "4                  -201.00000           2657.6470           690.74756   \n",
       "\n",
       "   F3amplitudeLogRelF0_sma3nz  \n",
       "0                   -76.35905  \n",
       "1                  -138.67952  \n",
       "2                  -201.00000  \n",
       "3                  -201.00000  \n",
       "4                  -201.00000  \n",
       "\n",
       "[5 rows x 26 columns]"
      ]
     },
     "execution_count": 4,
     "metadata": {},
     "output_type": "execute_result"
    }
   ],
   "source": [
    "import csv\n",
    "import pandas as pd\n",
    "\n",
    "df = pd.read_csv('framewise_feat_opensmile_lld.csv')  \n",
    "print(df.shape)\n",
    "print(df.columns)\n",
    "\n",
    "df.head()"
   ]
  },
  {
   "cell_type": "code",
   "execution_count": 5,
   "id": "e49ef06a",
   "metadata": {},
   "outputs": [],
   "source": [
    "with open('feat_dict_opensmile_lld.pickle', 'rb') as f:\n",
    "    x = pickle.load(f, encoding='latin1')"
   ]
  },
  {
   "cell_type": "code",
   "execution_count": 6,
   "id": "2f503ea3",
   "metadata": {},
   "outputs": [
    {
     "name": "stdout",
     "output_type": "stream",
     "text": [
      "690\n"
     ]
    }
   ],
   "source": [
    "print(len(x))"
   ]
  },
  {
   "cell_type": "code",
   "execution_count": 7,
   "id": "32ae17db",
   "metadata": {},
   "outputs": [
    {
     "name": "stdout",
     "output_type": "stream",
     "text": [
      "[[ 2.60884911e-01  2.48373643e-01  2.33862981e-01 ...  2.26437986e-01\n",
      "   2.01144055e-01  1.89944491e-01]\n",
      " [ 1.03622694e+01  1.04860544e+01  1.04557495e+01 ...  1.06011181e+01\n",
      "   1.12458143e+01  1.17966490e+01]\n",
      " [ 1.62772522e+01  1.60028934e+01  1.53295603e+01 ...  1.92108784e+01\n",
      "   1.96917439e+01  1.90552883e+01]\n",
      " ...\n",
      " [ 2.52623169e+03  2.57494067e+03  2.63089771e+03 ...  2.42066235e+03\n",
      "   2.42742578e+03  2.65197485e+03]\n",
      " [ 3.35112183e+03  2.13531616e+03  8.38617615e+02 ...  1.15744824e+03\n",
      "   1.15844775e+03  9.81603821e+02]\n",
      " [-7.63590469e+01 -1.38679520e+02 -2.01000000e+02 ... -2.01000000e+02\n",
      "  -2.01000000e+02 -2.01000000e+02]]\n"
     ]
    }
   ],
   "source": [
    "print(x['1_11201.wav'])"
   ]
  }
 ],
 "metadata": {
  "kernelspec": {
   "display_name": "Python 3 (ipykernel)",
   "language": "python",
   "name": "python3"
  },
  "language_info": {
   "codemirror_mode": {
    "name": "ipython",
    "version": 3
   },
   "file_extension": ".py",
   "mimetype": "text/x-python",
   "name": "python",
   "nbconvert_exporter": "python",
   "pygments_lexer": "ipython3",
   "version": "3.9.7"
  }
 },
 "nbformat": 4,
 "nbformat_minor": 5
}
