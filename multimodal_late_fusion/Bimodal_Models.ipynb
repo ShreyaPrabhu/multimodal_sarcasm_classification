{
 "cells": [
  {
   "cell_type": "code",
   "execution_count": 1,
   "id": "0a04689c",
   "metadata": {},
   "outputs": [],
   "source": [
    "import pandas as pd\n",
    "from sklearn.metrics import classification_report"
   ]
  },
  {
   "cell_type": "code",
   "execution_count": 2,
   "id": "ce894766",
   "metadata": {},
   "outputs": [],
   "source": [
    "audio_pred = pd.read_csv(\"/Users/yoshithaakunuri/Documents/CSCI535/Project/Final/MultiModal/Late Fusion/audio_predictions.csv\")\n",
    "lexical_pred = pd.read_csv(\"/Users/yoshithaakunuri/Documents/CSCI535/Project/Final/MultiModal/Late Fusion/lexical_predictions.csv\")\n",
    "visual_pred = pd.read_csv(\"/Users/yoshithaakunuri/Documents/CSCI535/Project/Final/MultiModal/Late Fusion/visual_predictions.csv\")\n",
    "\n"
   ]
  },
  {
   "cell_type": "code",
   "execution_count": 3,
   "id": "c85330eb",
   "metadata": {},
   "outputs": [
    {
     "data": {
      "text/html": [
       "<div>\n",
       "<style scoped>\n",
       "    .dataframe tbody tr th:only-of-type {\n",
       "        vertical-align: middle;\n",
       "    }\n",
       "\n",
       "    .dataframe tbody tr th {\n",
       "        vertical-align: top;\n",
       "    }\n",
       "\n",
       "    .dataframe thead th {\n",
       "        text-align: right;\n",
       "    }\n",
       "</style>\n",
       "<table border=\"1\" class=\"dataframe\">\n",
       "  <thead>\n",
       "    <tr style=\"text-align: right;\">\n",
       "      <th></th>\n",
       "      <th>scene</th>\n",
       "      <th>audio_predictions</th>\n",
       "      <th>actuals</th>\n",
       "    </tr>\n",
       "  </thead>\n",
       "  <tbody>\n",
       "    <tr>\n",
       "      <th>0</th>\n",
       "      <td>2_388</td>\n",
       "      <td>1</td>\n",
       "      <td>0</td>\n",
       "    </tr>\n",
       "    <tr>\n",
       "      <th>1</th>\n",
       "      <td>1_5058</td>\n",
       "      <td>1</td>\n",
       "      <td>1</td>\n",
       "    </tr>\n",
       "    <tr>\n",
       "      <th>2</th>\n",
       "      <td>1_S11E21_080</td>\n",
       "      <td>1</td>\n",
       "      <td>1</td>\n",
       "    </tr>\n",
       "    <tr>\n",
       "      <th>3</th>\n",
       "      <td>1_S11E12_038</td>\n",
       "      <td>1</td>\n",
       "      <td>1</td>\n",
       "    </tr>\n",
       "    <tr>\n",
       "      <th>4</th>\n",
       "      <td>1_S11E01_337</td>\n",
       "      <td>1</td>\n",
       "      <td>0</td>\n",
       "    </tr>\n",
       "  </tbody>\n",
       "</table>\n",
       "</div>"
      ],
      "text/plain": [
       "          scene  audio_predictions  actuals\n",
       "0         2_388                  1        0\n",
       "1        1_5058                  1        1\n",
       "2  1_S11E21_080                  1        1\n",
       "3  1_S11E12_038                  1        1\n",
       "4  1_S11E01_337                  1        0"
      ]
     },
     "execution_count": 3,
     "metadata": {},
     "output_type": "execute_result"
    }
   ],
   "source": [
    "audio_pred.head()"
   ]
  },
  {
   "cell_type": "code",
   "execution_count": 4,
   "id": "a0c2efaf",
   "metadata": {},
   "outputs": [
    {
     "data": {
      "text/html": [
       "<div>\n",
       "<style scoped>\n",
       "    .dataframe tbody tr th:only-of-type {\n",
       "        vertical-align: middle;\n",
       "    }\n",
       "\n",
       "    .dataframe tbody tr th {\n",
       "        vertical-align: top;\n",
       "    }\n",
       "\n",
       "    .dataframe thead th {\n",
       "        text-align: right;\n",
       "    }\n",
       "</style>\n",
       "<table border=\"1\" class=\"dataframe\">\n",
       "  <thead>\n",
       "    <tr style=\"text-align: right;\">\n",
       "      <th></th>\n",
       "      <th>scene</th>\n",
       "      <th>lexical_predictions</th>\n",
       "      <th>actuals</th>\n",
       "    </tr>\n",
       "  </thead>\n",
       "  <tbody>\n",
       "    <tr>\n",
       "      <th>0</th>\n",
       "      <td>2_388</td>\n",
       "      <td>1</td>\n",
       "      <td>0</td>\n",
       "    </tr>\n",
       "    <tr>\n",
       "      <th>1</th>\n",
       "      <td>1_5058</td>\n",
       "      <td>1</td>\n",
       "      <td>1</td>\n",
       "    </tr>\n",
       "    <tr>\n",
       "      <th>2</th>\n",
       "      <td>1_S11E21_080</td>\n",
       "      <td>1</td>\n",
       "      <td>1</td>\n",
       "    </tr>\n",
       "    <tr>\n",
       "      <th>3</th>\n",
       "      <td>1_S11E12_038</td>\n",
       "      <td>1</td>\n",
       "      <td>1</td>\n",
       "    </tr>\n",
       "    <tr>\n",
       "      <th>4</th>\n",
       "      <td>1_S11E01_337</td>\n",
       "      <td>0</td>\n",
       "      <td>0</td>\n",
       "    </tr>\n",
       "  </tbody>\n",
       "</table>\n",
       "</div>"
      ],
      "text/plain": [
       "          scene  lexical_predictions  actuals\n",
       "0         2_388                    1        0\n",
       "1        1_5058                    1        1\n",
       "2  1_S11E21_080                    1        1\n",
       "3  1_S11E12_038                    1        1\n",
       "4  1_S11E01_337                    0        0"
      ]
     },
     "execution_count": 4,
     "metadata": {},
     "output_type": "execute_result"
    }
   ],
   "source": [
    "lexical_pred.head()"
   ]
  },
  {
   "cell_type": "code",
   "execution_count": 5,
   "id": "b7abcbce",
   "metadata": {},
   "outputs": [
    {
     "data": {
      "text/html": [
       "<div>\n",
       "<style scoped>\n",
       "    .dataframe tbody tr th:only-of-type {\n",
       "        vertical-align: middle;\n",
       "    }\n",
       "\n",
       "    .dataframe tbody tr th {\n",
       "        vertical-align: top;\n",
       "    }\n",
       "\n",
       "    .dataframe thead th {\n",
       "        text-align: right;\n",
       "    }\n",
       "</style>\n",
       "<table border=\"1\" class=\"dataframe\">\n",
       "  <thead>\n",
       "    <tr style=\"text-align: right;\">\n",
       "      <th></th>\n",
       "      <th>scene</th>\n",
       "      <th>visual_predictions</th>\n",
       "      <th>actuals</th>\n",
       "    </tr>\n",
       "  </thead>\n",
       "  <tbody>\n",
       "    <tr>\n",
       "      <th>0</th>\n",
       "      <td>1_10009</td>\n",
       "      <td>1</td>\n",
       "      <td>0</td>\n",
       "    </tr>\n",
       "    <tr>\n",
       "      <th>1</th>\n",
       "      <td>1_1003</td>\n",
       "      <td>1</td>\n",
       "      <td>1</td>\n",
       "    </tr>\n",
       "    <tr>\n",
       "      <th>2</th>\n",
       "      <td>1_105</td>\n",
       "      <td>0</td>\n",
       "      <td>1</td>\n",
       "    </tr>\n",
       "    <tr>\n",
       "      <th>3</th>\n",
       "      <td>1_10797</td>\n",
       "      <td>1</td>\n",
       "      <td>0</td>\n",
       "    </tr>\n",
       "    <tr>\n",
       "      <th>4</th>\n",
       "      <td>1_10890</td>\n",
       "      <td>1</td>\n",
       "      <td>1</td>\n",
       "    </tr>\n",
       "  </tbody>\n",
       "</table>\n",
       "</div>"
      ],
      "text/plain": [
       "     scene  visual_predictions  actuals\n",
       "0  1_10009                   1        0\n",
       "1   1_1003                   1        1\n",
       "2    1_105                   0        1\n",
       "3  1_10797                   1        0\n",
       "4  1_10890                   1        1"
      ]
     },
     "execution_count": 5,
     "metadata": {},
     "output_type": "execute_result"
    }
   ],
   "source": [
    "visual_pred.head()"
   ]
  },
  {
   "cell_type": "code",
   "execution_count": 6,
   "id": "b96470a5",
   "metadata": {},
   "outputs": [],
   "source": [
    "merged = pd.merge(audio_pred[[\"scene\", \"actuals\", \"audio_predictions\"]], lexical_pred[[\"scene\", \"lexical_predictions\"]], how = 'left', on = \"scene\")\n",
    "merged = pd.merge(merged, visual_pred[[\"scene\", \"visual_predictions\"]])\n"
   ]
  },
  {
   "cell_type": "code",
   "execution_count": 7,
   "id": "ce2bef5f",
   "metadata": {},
   "outputs": [
    {
     "data": {
      "text/html": [
       "<div>\n",
       "<style scoped>\n",
       "    .dataframe tbody tr th:only-of-type {\n",
       "        vertical-align: middle;\n",
       "    }\n",
       "\n",
       "    .dataframe tbody tr th {\n",
       "        vertical-align: top;\n",
       "    }\n",
       "\n",
       "    .dataframe thead th {\n",
       "        text-align: right;\n",
       "    }\n",
       "</style>\n",
       "<table border=\"1\" class=\"dataframe\">\n",
       "  <thead>\n",
       "    <tr style=\"text-align: right;\">\n",
       "      <th></th>\n",
       "      <th>scene</th>\n",
       "      <th>actuals</th>\n",
       "      <th>audio_predictions</th>\n",
       "      <th>lexical_predictions</th>\n",
       "      <th>visual_predictions</th>\n",
       "    </tr>\n",
       "  </thead>\n",
       "  <tbody>\n",
       "    <tr>\n",
       "      <th>0</th>\n",
       "      <td>2_388</td>\n",
       "      <td>0</td>\n",
       "      <td>1</td>\n",
       "      <td>1</td>\n",
       "      <td>1</td>\n",
       "    </tr>\n",
       "    <tr>\n",
       "      <th>1</th>\n",
       "      <td>1_5058</td>\n",
       "      <td>1</td>\n",
       "      <td>1</td>\n",
       "      <td>1</td>\n",
       "      <td>1</td>\n",
       "    </tr>\n",
       "    <tr>\n",
       "      <th>2</th>\n",
       "      <td>1_S11E21_080</td>\n",
       "      <td>1</td>\n",
       "      <td>1</td>\n",
       "      <td>1</td>\n",
       "      <td>1</td>\n",
       "    </tr>\n",
       "    <tr>\n",
       "      <th>3</th>\n",
       "      <td>1_S11E12_038</td>\n",
       "      <td>1</td>\n",
       "      <td>1</td>\n",
       "      <td>1</td>\n",
       "      <td>0</td>\n",
       "    </tr>\n",
       "    <tr>\n",
       "      <th>4</th>\n",
       "      <td>1_S11E01_337</td>\n",
       "      <td>0</td>\n",
       "      <td>1</td>\n",
       "      <td>0</td>\n",
       "      <td>1</td>\n",
       "    </tr>\n",
       "  </tbody>\n",
       "</table>\n",
       "</div>"
      ],
      "text/plain": [
       "          scene  actuals  audio_predictions  lexical_predictions  \\\n",
       "0         2_388        0                  1                    1   \n",
       "1        1_5058        1                  1                    1   \n",
       "2  1_S11E21_080        1                  1                    1   \n",
       "3  1_S11E12_038        1                  1                    1   \n",
       "4  1_S11E01_337        0                  1                    0   \n",
       "\n",
       "   visual_predictions  \n",
       "0                   1  \n",
       "1                   1  \n",
       "2                   1  \n",
       "3                   0  \n",
       "4                   1  "
      ]
     },
     "execution_count": 7,
     "metadata": {},
     "output_type": "execute_result"
    }
   ],
   "source": [
    "merged.head()"
   ]
  },
  {
   "cell_type": "code",
   "execution_count": 8,
   "id": "17241659",
   "metadata": {},
   "outputs": [],
   "source": [
    "merged[\"aud_lex_pred\"] = merged[\"audio_predictions\"] | merged[\"lexical_predictions\"]"
   ]
  },
  {
   "cell_type": "code",
   "execution_count": 9,
   "id": "63bfb89d",
   "metadata": {},
   "outputs": [],
   "source": [
    "merged[\"aud_vis_pred\"] = merged[\"audio_predictions\"] | merged[\"visual_predictions\"]"
   ]
  },
  {
   "cell_type": "code",
   "execution_count": 10,
   "id": "d23861f8",
   "metadata": {},
   "outputs": [],
   "source": [
    "merged[\"vis_lex_pred\"] = merged[\"visual_predictions\"] | merged[\"lexical_predictions\"]"
   ]
  },
  {
   "cell_type": "code",
   "execution_count": 11,
   "id": "30a3e6c5",
   "metadata": {},
   "outputs": [],
   "source": [
    "merged[\"aud_lex_pred_and\"] = merged[\"audio_predictions\"] & merged[\"lexical_predictions\"]"
   ]
  },
  {
   "cell_type": "code",
   "execution_count": 12,
   "id": "fe5255ff",
   "metadata": {},
   "outputs": [],
   "source": [
    "merged[\"aud_vis_pred_and\"] = merged[\"audio_predictions\"] & merged[\"visual_predictions\"]"
   ]
  },
  {
   "cell_type": "code",
   "execution_count": 13,
   "id": "cd7c9beb",
   "metadata": {},
   "outputs": [],
   "source": [
    "merged[\"vis_lex_pred_and\"] = merged[\"visual_predictions\"] & merged[\"lexical_predictions\"]"
   ]
  },
  {
   "cell_type": "code",
   "execution_count": null,
   "id": "8034cad0",
   "metadata": {},
   "outputs": [],
   "source": []
  },
  {
   "cell_type": "code",
   "execution_count": 14,
   "id": "28a331b2",
   "metadata": {},
   "outputs": [
    {
     "data": {
      "text/html": [
       "<div>\n",
       "<style scoped>\n",
       "    .dataframe tbody tr th:only-of-type {\n",
       "        vertical-align: middle;\n",
       "    }\n",
       "\n",
       "    .dataframe tbody tr th {\n",
       "        vertical-align: top;\n",
       "    }\n",
       "\n",
       "    .dataframe thead th {\n",
       "        text-align: right;\n",
       "    }\n",
       "</style>\n",
       "<table border=\"1\" class=\"dataframe\">\n",
       "  <thead>\n",
       "    <tr style=\"text-align: right;\">\n",
       "      <th></th>\n",
       "      <th>scene</th>\n",
       "      <th>actuals</th>\n",
       "      <th>audio_predictions</th>\n",
       "      <th>lexical_predictions</th>\n",
       "      <th>visual_predictions</th>\n",
       "      <th>aud_lex_pred</th>\n",
       "      <th>aud_vis_pred</th>\n",
       "      <th>vis_lex_pred</th>\n",
       "      <th>aud_lex_pred_and</th>\n",
       "      <th>aud_vis_pred_and</th>\n",
       "      <th>vis_lex_pred_and</th>\n",
       "    </tr>\n",
       "  </thead>\n",
       "  <tbody>\n",
       "    <tr>\n",
       "      <th>0</th>\n",
       "      <td>2_388</td>\n",
       "      <td>0</td>\n",
       "      <td>1</td>\n",
       "      <td>1</td>\n",
       "      <td>1</td>\n",
       "      <td>1</td>\n",
       "      <td>1</td>\n",
       "      <td>1</td>\n",
       "      <td>1</td>\n",
       "      <td>1</td>\n",
       "      <td>1</td>\n",
       "    </tr>\n",
       "    <tr>\n",
       "      <th>1</th>\n",
       "      <td>1_5058</td>\n",
       "      <td>1</td>\n",
       "      <td>1</td>\n",
       "      <td>1</td>\n",
       "      <td>1</td>\n",
       "      <td>1</td>\n",
       "      <td>1</td>\n",
       "      <td>1</td>\n",
       "      <td>1</td>\n",
       "      <td>1</td>\n",
       "      <td>1</td>\n",
       "    </tr>\n",
       "    <tr>\n",
       "      <th>2</th>\n",
       "      <td>1_S11E21_080</td>\n",
       "      <td>1</td>\n",
       "      <td>1</td>\n",
       "      <td>1</td>\n",
       "      <td>1</td>\n",
       "      <td>1</td>\n",
       "      <td>1</td>\n",
       "      <td>1</td>\n",
       "      <td>1</td>\n",
       "      <td>1</td>\n",
       "      <td>1</td>\n",
       "    </tr>\n",
       "    <tr>\n",
       "      <th>3</th>\n",
       "      <td>1_S11E12_038</td>\n",
       "      <td>1</td>\n",
       "      <td>1</td>\n",
       "      <td>1</td>\n",
       "      <td>0</td>\n",
       "      <td>1</td>\n",
       "      <td>1</td>\n",
       "      <td>1</td>\n",
       "      <td>1</td>\n",
       "      <td>0</td>\n",
       "      <td>0</td>\n",
       "    </tr>\n",
       "    <tr>\n",
       "      <th>4</th>\n",
       "      <td>1_S11E01_337</td>\n",
       "      <td>0</td>\n",
       "      <td>1</td>\n",
       "      <td>0</td>\n",
       "      <td>1</td>\n",
       "      <td>1</td>\n",
       "      <td>1</td>\n",
       "      <td>1</td>\n",
       "      <td>0</td>\n",
       "      <td>1</td>\n",
       "      <td>0</td>\n",
       "    </tr>\n",
       "  </tbody>\n",
       "</table>\n",
       "</div>"
      ],
      "text/plain": [
       "          scene  actuals  audio_predictions  lexical_predictions  \\\n",
       "0         2_388        0                  1                    1   \n",
       "1        1_5058        1                  1                    1   \n",
       "2  1_S11E21_080        1                  1                    1   \n",
       "3  1_S11E12_038        1                  1                    1   \n",
       "4  1_S11E01_337        0                  1                    0   \n",
       "\n",
       "   visual_predictions  aud_lex_pred  aud_vis_pred  vis_lex_pred  \\\n",
       "0                   1             1             1             1   \n",
       "1                   1             1             1             1   \n",
       "2                   1             1             1             1   \n",
       "3                   0             1             1             1   \n",
       "4                   1             1             1             1   \n",
       "\n",
       "   aud_lex_pred_and  aud_vis_pred_and  vis_lex_pred_and  \n",
       "0                 1                 1                 1  \n",
       "1                 1                 1                 1  \n",
       "2                 1                 1                 1  \n",
       "3                 1                 0                 0  \n",
       "4                 0                 1                 0  "
      ]
     },
     "execution_count": 14,
     "metadata": {},
     "output_type": "execute_result"
    }
   ],
   "source": [
    "merged.head()"
   ]
  },
  {
   "cell_type": "code",
   "execution_count": 15,
   "id": "6ffc2dfb",
   "metadata": {},
   "outputs": [
    {
     "name": "stdout",
     "output_type": "stream",
     "text": [
      "177\n",
      "182\n",
      "170\n",
      "\n",
      "80\n",
      "106\n",
      "87\n"
     ]
    }
   ],
   "source": [
    "print(sum(merged[\"aud_lex_pred\"]))\n",
    "print(sum(merged[\"aud_vis_pred\"]))\n",
    "print(sum(merged[\"vis_lex_pred\"]))\n",
    "\n",
    "print()\n",
    "\n",
    "print(sum(merged[\"aud_lex_pred_and\"]))\n",
    "print(sum(merged[\"aud_vis_pred_and\"]))\n",
    "print(sum(merged[\"vis_lex_pred_and\"]))"
   ]
  },
  {
   "cell_type": "markdown",
   "id": "39207dbc",
   "metadata": {},
   "source": [
    "### Audio - Lexical"
   ]
  },
  {
   "cell_type": "code",
   "execution_count": 16,
   "id": "40dcd310",
   "metadata": {},
   "outputs": [
    {
     "name": "stdout",
     "output_type": "stream",
     "text": [
      "              precision    recall  f1-score   support\n",
      "\n",
      "           0     0.8906    0.4711    0.6162       121\n",
      "           1     0.6384    0.9417    0.7609       120\n",
      "\n",
      "    accuracy                         0.7054       241\n",
      "   macro avg     0.7645    0.7064    0.6886       241\n",
      "weighted avg     0.7650    0.7054    0.6883       241\n",
      "\n"
     ]
    }
   ],
   "source": [
    "print(classification_report(merged['actuals'], merged[\"aud_lex_pred\"], digits=4))"
   ]
  },
  {
   "cell_type": "code",
   "execution_count": 17,
   "id": "3d9e12b8",
   "metadata": {},
   "outputs": [
    {
     "name": "stdout",
     "output_type": "stream",
     "text": [
      "              precision    recall  f1-score   support\n",
      "\n",
      "           0     0.6708    0.8926    0.7660       121\n",
      "           1     0.8375    0.5583    0.6700       120\n",
      "\n",
      "    accuracy                         0.7261       241\n",
      "   macro avg     0.7542    0.7254    0.7180       241\n",
      "weighted avg     0.7538    0.7261    0.7182       241\n",
      "\n"
     ]
    }
   ],
   "source": [
    "print(classification_report(merged['actuals'], merged[\"aud_lex_pred_and\"], digits=4))"
   ]
  },
  {
   "cell_type": "markdown",
   "id": "0a62c32a",
   "metadata": {},
   "source": [
    "### Audio - Visual"
   ]
  },
  {
   "cell_type": "code",
   "execution_count": 18,
   "id": "f213b320",
   "metadata": {},
   "outputs": [
    {
     "name": "stdout",
     "output_type": "stream",
     "text": [
      "              precision    recall  f1-score   support\n",
      "\n",
      "           0     0.7458    0.3636    0.4889       121\n",
      "           1     0.5769    0.8750    0.6954       120\n",
      "\n",
      "    accuracy                         0.6183       241\n",
      "   macro avg     0.6613    0.6193    0.5921       241\n",
      "weighted avg     0.6617    0.6183    0.5917       241\n",
      "\n"
     ]
    }
   ],
   "source": [
    "print(classification_report(merged['actuals'], merged[\"aud_vis_pred\"], digits=4))"
   ]
  },
  {
   "cell_type": "code",
   "execution_count": 19,
   "id": "c399bdac",
   "metadata": {},
   "outputs": [
    {
     "name": "stdout",
     "output_type": "stream",
     "text": [
      "              precision    recall  f1-score   support\n",
      "\n",
      "           0     0.7037    0.7851    0.7422       121\n",
      "           1     0.7547    0.6667    0.7080       120\n",
      "\n",
      "    accuracy                         0.7261       241\n",
      "   macro avg     0.7292    0.7259    0.7251       241\n",
      "weighted avg     0.7291    0.7261    0.7251       241\n",
      "\n"
     ]
    }
   ],
   "source": [
    "print(classification_report(merged['actuals'], merged[\"aud_vis_pred_and\"], digits=4))"
   ]
  },
  {
   "cell_type": "markdown",
   "id": "b94adb34",
   "metadata": {},
   "source": [
    "### Visual - Lexical"
   ]
  },
  {
   "cell_type": "code",
   "execution_count": 20,
   "id": "f79d66c0",
   "metadata": {},
   "outputs": [
    {
     "name": "stdout",
     "output_type": "stream",
     "text": [
      "              precision    recall  f1-score   support\n",
      "\n",
      "           0     0.7606    0.4463    0.5625       121\n",
      "           1     0.6059    0.8583    0.7103       120\n",
      "\n",
      "    accuracy                         0.6515       241\n",
      "   macro avg     0.6832    0.6523    0.6364       241\n",
      "weighted avg     0.6835    0.6515    0.6361       241\n",
      "\n"
     ]
    }
   ],
   "source": [
    "print(classification_report(merged['actuals'], merged[\"vis_lex_pred\"], digits=4))"
   ]
  },
  {
   "cell_type": "code",
   "execution_count": 21,
   "id": "07c558c9",
   "metadata": {},
   "outputs": [
    {
     "name": "stdout",
     "output_type": "stream",
     "text": [
      "              precision    recall  f1-score   support\n",
      "\n",
      "           0     0.6364    0.8099    0.7127       121\n",
      "           1     0.7356    0.5333    0.6184       120\n",
      "\n",
      "    accuracy                         0.6722       241\n",
      "   macro avg     0.6860    0.6716    0.6655       241\n",
      "weighted avg     0.6858    0.6722    0.6657       241\n",
      "\n"
     ]
    }
   ],
   "source": [
    "print(classification_report(merged['actuals'], merged[\"vis_lex_pred_and\"], digits=4))"
   ]
  },
  {
   "cell_type": "code",
   "execution_count": null,
   "id": "85076637",
   "metadata": {},
   "outputs": [],
   "source": []
  }
 ],
 "metadata": {
  "kernelspec": {
   "display_name": "Python 3 (ipykernel)",
   "language": "python",
   "name": "python3"
  },
  "language_info": {
   "codemirror_mode": {
    "name": "ipython",
    "version": 3
   },
   "file_extension": ".py",
   "mimetype": "text/x-python",
   "name": "python",
   "nbconvert_exporter": "python",
   "pygments_lexer": "ipython3",
   "version": "3.8.10"
  }
 },
 "nbformat": 4,
 "nbformat_minor": 5
}
